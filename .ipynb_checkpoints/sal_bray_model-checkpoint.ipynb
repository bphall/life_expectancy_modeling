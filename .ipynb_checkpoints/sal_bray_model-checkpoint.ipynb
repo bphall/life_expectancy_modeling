{
 "cells": [
  {
   "cell_type": "code",
   "execution_count": 1,
   "metadata": {},
   "outputs": [],
   "source": [
    "import pandas as pd\n",
    "import numpy as np\n",
    "\n",
    "import seaborn as sns\n",
    "import matplotlib.pyplot as plt\n",
    "\n",
    "import statsmodels.api as sm\n",
    "from statsmodels.formula.api import ols\n",
    "\n",
    "\n",
    "import scipy\n",
    "import scipy as sp\n",
    "from scipy.stats import norm\n",
    "from scipy.stats import t\n",
    "from scipy.stats import f\n",
    "from scipy.stats import chi2_contingency\n",
    "from scipy.stats import chi2\n",
    "\n",
    "from sklearn.model_selection import train_test_split\n",
    "from sklearn.feature_selection import RFE, RFECV\n",
    "from sklearn.linear_model import Lasso, Ridge, LinearRegression\n",
    "from sklearn.preprocessing import MinMaxScaler, StandardScaler\n",
    "from sklearn.model_selection import GridSearchCV\n",
    "\n",
    "from sklearn import metrics\n",
    "from datetime import datetime\n",
    "import pickle\n",
    "\n",
    "pd.set_option('display.max_rows', 500)\n",
    "pd.set_option('display.max_columns', 500)\n",
    "plt.style.use('seaborn')\n",
    "\n",
    "%matplotlib inline"
   ]
  },
  {
   "cell_type": "markdown",
   "metadata": {},
   "source": [
    "# Setup and Inspection"
   ]
  },
  {
   "cell_type": "code",
   "execution_count": 2,
   "metadata": {},
   "outputs": [],
   "source": [
    "df = pd.read_csv('life.csv')"
   ]
  },
  {
   "cell_type": "code",
   "execution_count": 3,
   "metadata": {},
   "outputs": [
    {
     "data": {
      "text/plain": [
       "(2938, 22)"
      ]
     },
     "execution_count": 3,
     "metadata": {},
     "output_type": "execute_result"
    }
   ],
   "source": [
    "df.shape"
   ]
  },
  {
   "cell_type": "code",
   "execution_count": 4,
   "metadata": {},
   "outputs": [
    {
     "data": {
      "text/plain": [
       "count    2928.000000\n",
       "mean       69.224932\n",
       "std         9.523867\n",
       "min        36.300000\n",
       "25%        63.100000\n",
       "50%        72.100000\n",
       "75%        75.700000\n",
       "max        89.000000\n",
       "Name: Life expectancy , dtype: float64"
      ]
     },
     "execution_count": 4,
     "metadata": {},
     "output_type": "execute_result"
    }
   ],
   "source": [
    "df['Life expectancy '].describe()"
   ]
  },
  {
   "cell_type": "code",
   "execution_count": 5,
   "metadata": {
    "scrolled": false
   },
   "outputs": [
    {
     "data": {
      "text/plain": [
       "Index(['Country', 'Year', 'Status', 'Life expectancy ', 'Adult Mortality',\n",
       "       'infant deaths', 'Alcohol', 'percentage expenditure', 'Hepatitis B',\n",
       "       'Measles ', ' BMI ', 'under-five deaths ', 'Polio', 'Total expenditure',\n",
       "       'Diphtheria ', ' HIV/AIDS', 'GDP', 'Population',\n",
       "       ' thinness  1-19 years', ' thinness 5-9 years',\n",
       "       'Income composition of resources', 'Schooling'],\n",
       "      dtype='object')"
      ]
     },
     "execution_count": 5,
     "metadata": {},
     "output_type": "execute_result"
    }
   ],
   "source": [
    "df.columns"
   ]
  },
  {
   "cell_type": "code",
   "execution_count": 6,
   "metadata": {
    "scrolled": true
   },
   "outputs": [
    {
     "data": {
      "text/plain": [
       "<matplotlib.axes._subplots.AxesSubplot at 0x1c200328d0>"
      ]
     },
     "execution_count": 6,
     "metadata": {},
     "output_type": "execute_result"
    },
    {
     "data": {
      "image/png": "[encoded data removed]",
      "text/plain": [
       "<Figure size 432x288 with 1 Axes>"
      ]
     },
     "metadata": {
      "needs_background": "light"
     },
     "output_type": "display_data"
    }
   ],
   "source": [
    "sns.heatmap(df.isna(), cbar=False)"
   ]
  },
  {
   "cell_type": "code",
   "execution_count": 7,
   "metadata": {
    "scrolled": false
   },
   "outputs": [
    {
     "data": {
      "text/plain": [
       "Country                              0\n",
       "Year                                 0\n",
       "Status                               0\n",
       "Life expectancy                     10\n",
       "Adult Mortality                     10\n",
       "infant deaths                        0\n",
       "Alcohol                            194\n",
       "percentage expenditure               0\n",
       "Hepatitis B                        553\n",
       "Measles                              0\n",
       " BMI                                34\n",
       "under-five deaths                    0\n",
       "Polio                               19\n",
       "Total expenditure                  226\n",
       "Diphtheria                          19\n",
       " HIV/AIDS                            0\n",
       "GDP                                448\n",
       "Population                         652\n",
       " thinness  1-19 years               34\n",
       " thinness 5-9 years                 34\n",
       "Income composition of resources    167\n",
       "Schooling                          163\n",
       "dtype: int64"
      ]
     },
     "execution_count": 7,
     "metadata": {},
     "output_type": "execute_result"
    }
   ],
   "source": [
    "df.isna().sum()"
   ]
  },
  {
   "cell_type": "code",
   "execution_count": 8,
   "metadata": {},
   "outputs": [],
   "source": [
    "corr = df.corr()"
   ]
  },
  {
   "cell_type": "code",
   "execution_count": 9,
   "metadata": {
    "scrolled": true
   },
   "outputs": [
    {
     "data": {
      "text/plain": [
       "<matplotlib.axes._subplots.AxesSubplot at 0x10a8c9890>"
      ]
     },
     "execution_count": 9,
     "metadata": {},
     "output_type": "execute_result"
    },
    {
     "data": {
      "image/png": "[encoded data removed]",
      "text/plain": [
       "<Figure size 1080x648 with 2 Axes>"
      ]
     },
     "metadata": {
      "needs_background": "light"
     },
     "output_type": "display_data"
    }
   ],
   "source": [
    "plt.figure(figsize = (15,9))\n",
    "sns.heatmap(corr)"
   ]
  },
  {
   "cell_type": "code",
   "execution_count": 10,
   "metadata": {
    "scrolled": true
   },
   "outputs": [
    {
     "data": {
      "text/html": [
       "<div>\n",
       "<style scoped>\n",
       "    .dataframe tbody tr th:only-of-type {\n",
       "        vertical-align: middle;\n",
       "    }\n",
       "\n",
       "    .dataframe tbody tr th {\n",
       "        vertical-align: top;\n",
       "    }\n",
       "\n",
       "    .dataframe thead th {\n",
       "        text-align: right;\n",
       "    }\n",
       "</style>\n",
       "<table border=\"1\" class=\"dataframe\">\n",
       "  <thead>\n",
       "    <tr style=\"text-align: right;\">\n",
       "      <th></th>\n",
       "      <th>Country</th>\n",
       "      <th>Year</th>\n",
       "      <th>Status</th>\n",
       "      <th>Life expectancy</th>\n",
       "      <th>Adult Mortality</th>\n",
       "      <th>infant deaths</th>\n",
       "      <th>Alcohol</th>\n",
       "      <th>percentage expenditure</th>\n",
       "      <th>Hepatitis B</th>\n",
       "      <th>Measles</th>\n",
       "      <th>BMI</th>\n",
       "      <th>under-five deaths</th>\n",
       "      <th>Polio</th>\n",
       "      <th>Total expenditure</th>\n",
       "      <th>Diphtheria</th>\n",
       "      <th>HIV/AIDS</th>\n",
       "      <th>GDP</th>\n",
       "      <th>Population</th>\n",
       "      <th>thinness  1-19 years</th>\n",
       "      <th>thinness 5-9 years</th>\n",
       "      <th>Income composition of resources</th>\n",
       "      <th>Schooling</th>\n",
       "    </tr>\n",
       "  </thead>\n",
       "  <tbody>\n",
       "    <tr>\n",
       "      <td>0</td>\n",
       "      <td>Afghanistan</td>\n",
       "      <td>2015</td>\n",
       "      <td>Developing</td>\n",
       "      <td>65.0</td>\n",
       "      <td>263.0</td>\n",
       "      <td>62</td>\n",
       "      <td>0.01</td>\n",
       "      <td>71.279624</td>\n",
       "      <td>65.0</td>\n",
       "      <td>1154</td>\n",
       "      <td>19.1</td>\n",
       "      <td>83</td>\n",
       "      <td>6.0</td>\n",
       "      <td>8.16</td>\n",
       "      <td>65.0</td>\n",
       "      <td>0.1</td>\n",
       "      <td>584.259210</td>\n",
       "      <td>33736494.0</td>\n",
       "      <td>17.2</td>\n",
       "      <td>17.3</td>\n",
       "      <td>0.479</td>\n",
       "      <td>10.1</td>\n",
       "    </tr>\n",
       "    <tr>\n",
       "      <td>1</td>\n",
       "      <td>Afghanistan</td>\n",
       "      <td>2014</td>\n",
       "      <td>Developing</td>\n",
       "      <td>59.9</td>\n",
       "      <td>271.0</td>\n",
       "      <td>64</td>\n",
       "      <td>0.01</td>\n",
       "      <td>73.523582</td>\n",
       "      <td>62.0</td>\n",
       "      <td>492</td>\n",
       "      <td>18.6</td>\n",
       "      <td>86</td>\n",
       "      <td>58.0</td>\n",
       "      <td>8.18</td>\n",
       "      <td>62.0</td>\n",
       "      <td>0.1</td>\n",
       "      <td>612.696514</td>\n",
       "      <td>327582.0</td>\n",
       "      <td>17.5</td>\n",
       "      <td>17.5</td>\n",
       "      <td>0.476</td>\n",
       "      <td>10.0</td>\n",
       "    </tr>\n",
       "    <tr>\n",
       "      <td>2</td>\n",
       "      <td>Afghanistan</td>\n",
       "      <td>2013</td>\n",
       "      <td>Developing</td>\n",
       "      <td>59.9</td>\n",
       "      <td>268.0</td>\n",
       "      <td>66</td>\n",
       "      <td>0.01</td>\n",
       "      <td>73.219243</td>\n",
       "      <td>64.0</td>\n",
       "      <td>430</td>\n",
       "      <td>18.1</td>\n",
       "      <td>89</td>\n",
       "      <td>62.0</td>\n",
       "      <td>8.13</td>\n",
       "      <td>64.0</td>\n",
       "      <td>0.1</td>\n",
       "      <td>631.744976</td>\n",
       "      <td>31731688.0</td>\n",
       "      <td>17.7</td>\n",
       "      <td>17.7</td>\n",
       "      <td>0.470</td>\n",
       "      <td>9.9</td>\n",
       "    </tr>\n",
       "    <tr>\n",
       "      <td>3</td>\n",
       "      <td>Afghanistan</td>\n",
       "      <td>2012</td>\n",
       "      <td>Developing</td>\n",
       "      <td>59.5</td>\n",
       "      <td>272.0</td>\n",
       "      <td>69</td>\n",
       "      <td>0.01</td>\n",
       "      <td>78.184215</td>\n",
       "      <td>67.0</td>\n",
       "      <td>2787</td>\n",
       "      <td>17.6</td>\n",
       "      <td>93</td>\n",
       "      <td>67.0</td>\n",
       "      <td>8.52</td>\n",
       "      <td>67.0</td>\n",
       "      <td>0.1</td>\n",
       "      <td>669.959000</td>\n",
       "      <td>3696958.0</td>\n",
       "      <td>17.9</td>\n",
       "      <td>18.0</td>\n",
       "      <td>0.463</td>\n",
       "      <td>9.8</td>\n",
       "    </tr>\n",
       "    <tr>\n",
       "      <td>4</td>\n",
       "      <td>Afghanistan</td>\n",
       "      <td>2011</td>\n",
       "      <td>Developing</td>\n",
       "      <td>59.2</td>\n",
       "      <td>275.0</td>\n",
       "      <td>71</td>\n",
       "      <td>0.01</td>\n",
       "      <td>7.097109</td>\n",
       "      <td>68.0</td>\n",
       "      <td>3013</td>\n",
       "      <td>17.2</td>\n",
       "      <td>97</td>\n",
       "      <td>68.0</td>\n",
       "      <td>7.87</td>\n",
       "      <td>68.0</td>\n",
       "      <td>0.1</td>\n",
       "      <td>63.537231</td>\n",
       "      <td>2978599.0</td>\n",
       "      <td>18.2</td>\n",
       "      <td>18.2</td>\n",
       "      <td>0.454</td>\n",
       "      <td>9.5</td>\n",
       "    </tr>\n",
       "  </tbody>\n",
       "</table>\n",
       "</div>"
      ],
      "text/plain": [
       "       Country  Year      Status  Life expectancy   Adult Mortality  \\\n",
       "0  Afghanistan  2015  Developing              65.0            263.0   \n",
       "1  Afghanistan  2014  Developing              59.9            271.0   \n",
       "2  Afghanistan  2013  Developing              59.9            268.0   \n",
       "3  Afghanistan  2012  Developing              59.5            272.0   \n",
       "4  Afghanistan  2011  Developing              59.2            275.0   \n",
       "\n",
       "   infant deaths  Alcohol  percentage expenditure  Hepatitis B  Measles   \\\n",
       "0             62     0.01               71.279624         65.0      1154   \n",
       "1             64     0.01               73.523582         62.0       492   \n",
       "2             66     0.01               73.219243         64.0       430   \n",
       "3             69     0.01               78.184215         67.0      2787   \n",
       "4             71     0.01                7.097109         68.0      3013   \n",
       "\n",
       "    BMI   under-five deaths   Polio  Total expenditure  Diphtheria   \\\n",
       "0   19.1                  83    6.0               8.16         65.0   \n",
       "1   18.6                  86   58.0               8.18         62.0   \n",
       "2   18.1                  89   62.0               8.13         64.0   \n",
       "3   17.6                  93   67.0               8.52         67.0   \n",
       "4   17.2                  97   68.0               7.87         68.0   \n",
       "\n",
       "    HIV/AIDS         GDP  Population   thinness  1-19 years  \\\n",
       "0        0.1  584.259210  33736494.0                   17.2   \n",
       "1        0.1  612.696514    327582.0                   17.5   \n",
       "2        0.1  631.744976  31731688.0                   17.7   \n",
       "3        0.1  669.959000   3696958.0                   17.9   \n",
       "4        0.1   63.537231   2978599.0                   18.2   \n",
       "\n",
       "    thinness 5-9 years  Income composition of resources  Schooling  \n",
       "0                 17.3                            0.479       10.1  \n",
       "1                 17.5                            0.476       10.0  \n",
       "2                 17.7                            0.470        9.9  \n",
       "3                 18.0                            0.463        9.8  \n",
       "4                 18.2                            0.454        9.5  "
      ]
     },
     "execution_count": 10,
     "metadata": {},
     "output_type": "execute_result"
    }
   ],
   "source": [
    "df.head()"
   ]
  },
  {
   "cell_type": "markdown",
   "metadata": {},
   "source": [
    "# Dropping and Imputing"
   ]
  },
  {
   "cell_type": "markdown",
   "metadata": {},
   "source": [
    "## Imputing"
   ]
  },
  {
   "cell_type": "code",
   "execution_count": 11,
   "metadata": {},
   "outputs": [],
   "source": [
    "df2 = df.copy()"
   ]
  },
  {
   "cell_type": "code",
   "execution_count": 12,
   "metadata": {},
   "outputs": [],
   "source": [
    "df2.GDP = df.GDP.fillna(df.GDP.median())"
   ]
  },
  {
   "cell_type": "code",
   "execution_count": 13,
   "metadata": {},
   "outputs": [],
   "source": [
    "df2.Schooling = df.Schooling.fillna(df.Schooling.median())"
   ]
  },
  {
   "cell_type": "code",
   "execution_count": 14,
   "metadata": {},
   "outputs": [],
   "source": [
    "df2['Total expenditure'] = df['Total expenditure'].fillna(df['Total expenditure'].median())"
   ]
  },
  {
   "cell_type": "code",
   "execution_count": 15,
   "metadata": {
    "scrolled": false
   },
   "outputs": [],
   "source": [
    "df2['Income composition of resources'] = df['Income composition of resources'].fillna(df['Income composition of resources'].median())"
   ]
  },
  {
   "cell_type": "code",
   "execution_count": 16,
   "metadata": {},
   "outputs": [],
   "source": [
    "df2.Alcohol = df.Alcohol.fillna(df.Alcohol.median())"
   ]
  },
  {
   "cell_type": "code",
   "execution_count": 17,
   "metadata": {},
   "outputs": [],
   "source": [
    "df2['Status'] = np.where(df2['Status'] == 'Developing', 0,1)"
   ]
  },
  {
   "cell_type": "code",
   "execution_count": 18,
   "metadata": {},
   "outputs": [],
   "source": [
    "# pop_fix = df.groupby('Country')['Population'].max().values"
   ]
  },
  {
   "cell_type": "code",
   "execution_count": 19,
   "metadata": {},
   "outputs": [],
   "source": [
    "# countr = df.Country.unique()"
   ]
  },
  {
   "cell_type": "code",
   "execution_count": 20,
   "metadata": {},
   "outputs": [],
   "source": [
    "# pop_dict = dict(zip(countr, pop_fix))"
   ]
  },
  {
   "cell_type": "code",
   "execution_count": 21,
   "metadata": {},
   "outputs": [],
   "source": [
    "# df2['pop_fix'] = df2.Country.apply(lambda x: pop_dict[x])"
   ]
  },
  {
   "cell_type": "code",
   "execution_count": 22,
   "metadata": {},
   "outputs": [],
   "source": [
    "# df2.pop_fix = df2.pop_fix.fillna(df2.pop_fix.median())"
   ]
  },
  {
   "cell_type": "code",
   "execution_count": 23,
   "metadata": {},
   "outputs": [
    {
     "data": {
      "text/plain": [
       "Index(['Country', 'Year', 'Status', 'Life expectancy ', 'Adult Mortality',\n",
       "       'infant deaths', 'Alcohol', 'percentage expenditure', 'Hepatitis B',\n",
       "       'Measles ', ' BMI ', 'under-five deaths ', 'Polio', 'Total expenditure',\n",
       "       'Diphtheria ', ' HIV/AIDS', 'GDP', 'Population',\n",
       "       ' thinness  1-19 years', ' thinness 5-9 years',\n",
       "       'Income composition of resources', 'Schooling'],\n",
       "      dtype='object')"
      ]
     },
     "execution_count": 23,
     "metadata": {},
     "output_type": "execute_result"
    }
   ],
   "source": [
    "df2.columns"
   ]
  },
  {
   "cell_type": "code",
   "execution_count": 24,
   "metadata": {},
   "outputs": [
    {
     "data": {
      "text/html": [
       "<div>\n",
       "<style scoped>\n",
       "    .dataframe tbody tr th:only-of-type {\n",
       "        vertical-align: middle;\n",
       "    }\n",
       "\n",
       "    .dataframe tbody tr th {\n",
       "        vertical-align: top;\n",
       "    }\n",
       "\n",
       "    .dataframe thead th {\n",
       "        text-align: right;\n",
       "    }\n",
       "</style>\n",
       "<table border=\"1\" class=\"dataframe\">\n",
       "  <thead>\n",
       "    <tr style=\"text-align: right;\">\n",
       "      <th></th>\n",
       "      <th>Country</th>\n",
       "      <th>Year</th>\n",
       "      <th>Status</th>\n",
       "      <th>Life expectancy</th>\n",
       "      <th>Adult Mortality</th>\n",
       "      <th>infant deaths</th>\n",
       "      <th>Alcohol</th>\n",
       "      <th>percentage expenditure</th>\n",
       "      <th>Hepatitis B</th>\n",
       "      <th>Measles</th>\n",
       "      <th>BMI</th>\n",
       "      <th>under-five deaths</th>\n",
       "      <th>Polio</th>\n",
       "      <th>Total expenditure</th>\n",
       "      <th>Diphtheria</th>\n",
       "      <th>HIV/AIDS</th>\n",
       "      <th>GDP</th>\n",
       "      <th>Population</th>\n",
       "      <th>thinness  1-19 years</th>\n",
       "      <th>thinness 5-9 years</th>\n",
       "      <th>Income composition of resources</th>\n",
       "      <th>Schooling</th>\n",
       "    </tr>\n",
       "  </thead>\n",
       "  <tbody>\n",
       "    <tr>\n",
       "      <td>0</td>\n",
       "      <td>Afghanistan</td>\n",
       "      <td>2015</td>\n",
       "      <td>0</td>\n",
       "      <td>65.0</td>\n",
       "      <td>263.0</td>\n",
       "      <td>62</td>\n",
       "      <td>0.01</td>\n",
       "      <td>71.279624</td>\n",
       "      <td>65.0</td>\n",
       "      <td>1154</td>\n",
       "      <td>19.1</td>\n",
       "      <td>83</td>\n",
       "      <td>6.0</td>\n",
       "      <td>8.16</td>\n",
       "      <td>65.0</td>\n",
       "      <td>0.1</td>\n",
       "      <td>584.259210</td>\n",
       "      <td>33736494.0</td>\n",
       "      <td>17.2</td>\n",
       "      <td>17.3</td>\n",
       "      <td>0.479</td>\n",
       "      <td>10.1</td>\n",
       "    </tr>\n",
       "    <tr>\n",
       "      <td>1</td>\n",
       "      <td>Afghanistan</td>\n",
       "      <td>2014</td>\n",
       "      <td>0</td>\n",
       "      <td>59.9</td>\n",
       "      <td>271.0</td>\n",
       "      <td>64</td>\n",
       "      <td>0.01</td>\n",
       "      <td>73.523582</td>\n",
       "      <td>62.0</td>\n",
       "      <td>492</td>\n",
       "      <td>18.6</td>\n",
       "      <td>86</td>\n",
       "      <td>58.0</td>\n",
       "      <td>8.18</td>\n",
       "      <td>62.0</td>\n",
       "      <td>0.1</td>\n",
       "      <td>612.696514</td>\n",
       "      <td>327582.0</td>\n",
       "      <td>17.5</td>\n",
       "      <td>17.5</td>\n",
       "      <td>0.476</td>\n",
       "      <td>10.0</td>\n",
       "    </tr>\n",
       "    <tr>\n",
       "      <td>2</td>\n",
       "      <td>Afghanistan</td>\n",
       "      <td>2013</td>\n",
       "      <td>0</td>\n",
       "      <td>59.9</td>\n",
       "      <td>268.0</td>\n",
       "      <td>66</td>\n",
       "      <td>0.01</td>\n",
       "      <td>73.219243</td>\n",
       "      <td>64.0</td>\n",
       "      <td>430</td>\n",
       "      <td>18.1</td>\n",
       "      <td>89</td>\n",
       "      <td>62.0</td>\n",
       "      <td>8.13</td>\n",
       "      <td>64.0</td>\n",
       "      <td>0.1</td>\n",
       "      <td>631.744976</td>\n",
       "      <td>31731688.0</td>\n",
       "      <td>17.7</td>\n",
       "      <td>17.7</td>\n",
       "      <td>0.470</td>\n",
       "      <td>9.9</td>\n",
       "    </tr>\n",
       "    <tr>\n",
       "      <td>3</td>\n",
       "      <td>Afghanistan</td>\n",
       "      <td>2012</td>\n",
       "      <td>0</td>\n",
       "      <td>59.5</td>\n",
       "      <td>272.0</td>\n",
       "      <td>69</td>\n",
       "      <td>0.01</td>\n",
       "      <td>78.184215</td>\n",
       "      <td>67.0</td>\n",
       "      <td>2787</td>\n",
       "      <td>17.6</td>\n",
       "      <td>93</td>\n",
       "      <td>67.0</td>\n",
       "      <td>8.52</td>\n",
       "      <td>67.0</td>\n",
       "      <td>0.1</td>\n",
       "      <td>669.959000</td>\n",
       "      <td>3696958.0</td>\n",
       "      <td>17.9</td>\n",
       "      <td>18.0</td>\n",
       "      <td>0.463</td>\n",
       "      <td>9.8</td>\n",
       "    </tr>\n",
       "    <tr>\n",
       "      <td>4</td>\n",
       "      <td>Afghanistan</td>\n",
       "      <td>2011</td>\n",
       "      <td>0</td>\n",
       "      <td>59.2</td>\n",
       "      <td>275.0</td>\n",
       "      <td>71</td>\n",
       "      <td>0.01</td>\n",
       "      <td>7.097109</td>\n",
       "      <td>68.0</td>\n",
       "      <td>3013</td>\n",
       "      <td>17.2</td>\n",
       "      <td>97</td>\n",
       "      <td>68.0</td>\n",
       "      <td>7.87</td>\n",
       "      <td>68.0</td>\n",
       "      <td>0.1</td>\n",
       "      <td>63.537231</td>\n",
       "      <td>2978599.0</td>\n",
       "      <td>18.2</td>\n",
       "      <td>18.2</td>\n",
       "      <td>0.454</td>\n",
       "      <td>9.5</td>\n",
       "    </tr>\n",
       "  </tbody>\n",
       "</table>\n",
       "</div>"
      ],
      "text/plain": [
       "       Country  Year  Status  Life expectancy   Adult Mortality  \\\n",
       "0  Afghanistan  2015       0              65.0            263.0   \n",
       "1  Afghanistan  2014       0              59.9            271.0   \n",
       "2  Afghanistan  2013       0              59.9            268.0   \n",
       "3  Afghanistan  2012       0              59.5            272.0   \n",
       "4  Afghanistan  2011       0              59.2            275.0   \n",
       "\n",
       "   infant deaths  Alcohol  percentage expenditure  Hepatitis B  Measles   \\\n",
       "0             62     0.01               71.279624         65.0      1154   \n",
       "1             64     0.01               73.523582         62.0       492   \n",
       "2             66     0.01               73.219243         64.0       430   \n",
       "3             69     0.01               78.184215         67.0      2787   \n",
       "4             71     0.01                7.097109         68.0      3013   \n",
       "\n",
       "    BMI   under-five deaths   Polio  Total expenditure  Diphtheria   \\\n",
       "0   19.1                  83    6.0               8.16         65.0   \n",
       "1   18.6                  86   58.0               8.18         62.0   \n",
       "2   18.1                  89   62.0               8.13         64.0   \n",
       "3   17.6                  93   67.0               8.52         67.0   \n",
       "4   17.2                  97   68.0               7.87         68.0   \n",
       "\n",
       "    HIV/AIDS         GDP  Population   thinness  1-19 years  \\\n",
       "0        0.1  584.259210  33736494.0                   17.2   \n",
       "1        0.1  612.696514    327582.0                   17.5   \n",
       "2        0.1  631.744976  31731688.0                   17.7   \n",
       "3        0.1  669.959000   3696958.0                   17.9   \n",
       "4        0.1   63.537231   2978599.0                   18.2   \n",
       "\n",
       "    thinness 5-9 years  Income composition of resources  Schooling  \n",
       "0                 17.3                            0.479       10.1  \n",
       "1                 17.5                            0.476       10.0  \n",
       "2                 17.7                            0.470        9.9  \n",
       "3                 18.0                            0.463        9.8  \n",
       "4                 18.2                            0.454        9.5  "
      ]
     },
     "execution_count": 24,
     "metadata": {},
     "output_type": "execute_result"
    }
   ],
   "source": [
    "df2.head()"
   ]
  },
  {
   "cell_type": "markdown",
   "metadata": {},
   "source": [
    "## Dropping"
   ]
  },
  {
   "cell_type": "code",
   "execution_count": 25,
   "metadata": {},
   "outputs": [],
   "source": [
    "df2 = df2.drop(columns=['Hepatitis B', 'Country', 'Year',' thinness 5-9 years'])"
   ]
  },
  {
   "cell_type": "code",
   "execution_count": 26,
   "metadata": {},
   "outputs": [],
   "source": [
    "df2 = df2.dropna(subset =['Life expectancy '])"
   ]
  },
  {
   "cell_type": "code",
   "execution_count": 27,
   "metadata": {},
   "outputs": [],
   "source": [
    "df2 = df2.dropna()"
   ]
  },
  {
   "cell_type": "code",
   "execution_count": 28,
   "metadata": {},
   "outputs": [
    {
     "data": {
      "text/plain": [
       "Status                             0\n",
       "Life expectancy                    0\n",
       "Adult Mortality                    0\n",
       "infant deaths                      0\n",
       "Alcohol                            0\n",
       "percentage expenditure             0\n",
       "Measles                            0\n",
       " BMI                               0\n",
       "under-five deaths                  0\n",
       "Polio                              0\n",
       "Total expenditure                  0\n",
       "Diphtheria                         0\n",
       " HIV/AIDS                          0\n",
       "GDP                                0\n",
       "Population                         0\n",
       " thinness  1-19 years              0\n",
       "Income composition of resources    0\n",
       "Schooling                          0\n",
       "dtype: int64"
      ]
     },
     "execution_count": 28,
     "metadata": {},
     "output_type": "execute_result"
    }
   ],
   "source": [
    "df2.isna().sum()"
   ]
  },
  {
   "cell_type": "code",
   "execution_count": 29,
   "metadata": {},
   "outputs": [],
   "source": [
    "corr = df2.corr()"
   ]
  },
  {
   "cell_type": "code",
   "execution_count": 30,
   "metadata": {},
   "outputs": [
    {
     "data": {
      "text/plain": [
       "<matplotlib.axes._subplots.AxesSubplot at 0x1c20b5fe90>"
      ]
     },
     "execution_count": 30,
     "metadata": {},
     "output_type": "execute_result"
    },
    {
     "data": {
      "image/png": "[encoded data removed]",
      "text/plain": [
       "<Figure size 432x288 with 1 Axes>"
      ]
     },
     "metadata": {
      "needs_background": "light"
     },
     "output_type": "display_data"
    }
   ],
   "source": [
    "sns.heatmap(df2.isna(), cbar=False)"
   ]
  },
  {
   "cell_type": "code",
   "execution_count": 31,
   "metadata": {},
   "outputs": [
    {
     "data": {
      "text/plain": [
       "Status                             0\n",
       "Life expectancy                    0\n",
       "Adult Mortality                    0\n",
       "infant deaths                      0\n",
       "Alcohol                            0\n",
       "percentage expenditure             0\n",
       "Measles                            0\n",
       " BMI                               0\n",
       "under-five deaths                  0\n",
       "Polio                              0\n",
       "Total expenditure                  0\n",
       "Diphtheria                         0\n",
       " HIV/AIDS                          0\n",
       "GDP                                0\n",
       "Population                         0\n",
       " thinness  1-19 years              0\n",
       "Income composition of resources    0\n",
       "Schooling                          0\n",
       "dtype: int64"
      ]
     },
     "execution_count": 31,
     "metadata": {},
     "output_type": "execute_result"
    }
   ],
   "source": [
    "df2.isna().sum()"
   ]
  },
  {
   "cell_type": "code",
   "execution_count": 32,
   "metadata": {},
   "outputs": [],
   "source": [
    "renamed = []\n",
    "for i in df2.columns:\n",
    "    renamed.append(i.lower().strip().replace(' ', '_').replace('-','_').replace('/','_'))"
   ]
  },
  {
   "cell_type": "code",
   "execution_count": 33,
   "metadata": {},
   "outputs": [],
   "source": [
    "rename_dict = dict(zip(df2.columns, renamed))"
   ]
  },
  {
   "cell_type": "code",
   "execution_count": 34,
   "metadata": {},
   "outputs": [
    {
     "data": {
      "text/plain": [
       "{'Status': 'status',\n",
       " 'Life expectancy ': 'life_expectancy',\n",
       " 'Adult Mortality': 'adult_mortality',\n",
       " 'infant deaths': 'infant_deaths',\n",
       " 'Alcohol': 'alcohol',\n",
       " 'percentage expenditure': 'percentage_expenditure',\n",
       " 'Measles ': 'measles',\n",
       " ' BMI ': 'bmi',\n",
       " 'under-five deaths ': 'under_five_deaths',\n",
       " 'Polio': 'polio',\n",
       " 'Total expenditure': 'total_expenditure',\n",
       " 'Diphtheria ': 'diphtheria',\n",
       " ' HIV/AIDS': 'hiv_aids',\n",
       " 'GDP': 'gdp',\n",
       " 'Population': 'population',\n",
       " ' thinness  1-19 years': 'thinness__1_19_years',\n",
       " 'Income composition of resources': 'income_composition_of_resources',\n",
       " 'Schooling': 'schooling'}"
      ]
     },
     "execution_count": 34,
     "metadata": {},
     "output_type": "execute_result"
    }
   ],
   "source": [
    "rename_dict"
   ]
  },
  {
   "cell_type": "code",
   "execution_count": 35,
   "metadata": {
    "scrolled": true
   },
   "outputs": [],
   "source": [
    "df2.rename(columns=rename_dict, inplace=True)"
   ]
  },
  {
   "cell_type": "code",
   "execution_count": 36,
   "metadata": {},
   "outputs": [],
   "source": [
    "shorten = {'life_expectancy':'lifex', \\\n",
    "           'percentage_expenditure':'perc_expend', \\\n",
    "           'total_expenditure':'tot_expend', \\\n",
    "          'population':'pop','income_composition_of_resources':'income_comp'}"
   ]
  },
  {
   "cell_type": "code",
   "execution_count": 37,
   "metadata": {},
   "outputs": [],
   "source": [
    "df2.rename(columns=shorten, inplace=True)"
   ]
  },
  {
   "cell_type": "code",
   "execution_count": 38,
   "metadata": {
    "scrolled": true
   },
   "outputs": [
    {
     "data": {
      "text/html": [
       "<div>\n",
       "<style scoped>\n",
       "    .dataframe tbody tr th:only-of-type {\n",
       "        vertical-align: middle;\n",
       "    }\n",
       "\n",
       "    .dataframe tbody tr th {\n",
       "        vertical-align: top;\n",
       "    }\n",
       "\n",
       "    .dataframe thead th {\n",
       "        text-align: right;\n",
       "    }\n",
       "</style>\n",
       "<table border=\"1\" class=\"dataframe\">\n",
       "  <thead>\n",
       "    <tr style=\"text-align: right;\">\n",
       "      <th></th>\n",
       "      <th>status</th>\n",
       "      <th>lifex</th>\n",
       "      <th>adult_mortality</th>\n",
       "      <th>infant_deaths</th>\n",
       "      <th>alcohol</th>\n",
       "      <th>perc_expend</th>\n",
       "      <th>measles</th>\n",
       "      <th>bmi</th>\n",
       "      <th>under_five_deaths</th>\n",
       "      <th>polio</th>\n",
       "      <th>tot_expend</th>\n",
       "      <th>diphtheria</th>\n",
       "      <th>hiv_aids</th>\n",
       "      <th>gdp</th>\n",
       "      <th>pop</th>\n",
       "      <th>thinness__1_19_years</th>\n",
       "      <th>income_comp</th>\n",
       "      <th>schooling</th>\n",
       "    </tr>\n",
       "  </thead>\n",
       "  <tbody>\n",
       "    <tr>\n",
       "      <td>0</td>\n",
       "      <td>0</td>\n",
       "      <td>65.0</td>\n",
       "      <td>263.0</td>\n",
       "      <td>62</td>\n",
       "      <td>0.01</td>\n",
       "      <td>71.279624</td>\n",
       "      <td>1154</td>\n",
       "      <td>19.1</td>\n",
       "      <td>83</td>\n",
       "      <td>6.0</td>\n",
       "      <td>8.16</td>\n",
       "      <td>65.0</td>\n",
       "      <td>0.1</td>\n",
       "      <td>584.259210</td>\n",
       "      <td>33736494.0</td>\n",
       "      <td>17.2</td>\n",
       "      <td>0.479</td>\n",
       "      <td>10.1</td>\n",
       "    </tr>\n",
       "    <tr>\n",
       "      <td>1</td>\n",
       "      <td>0</td>\n",
       "      <td>59.9</td>\n",
       "      <td>271.0</td>\n",
       "      <td>64</td>\n",
       "      <td>0.01</td>\n",
       "      <td>73.523582</td>\n",
       "      <td>492</td>\n",
       "      <td>18.6</td>\n",
       "      <td>86</td>\n",
       "      <td>58.0</td>\n",
       "      <td>8.18</td>\n",
       "      <td>62.0</td>\n",
       "      <td>0.1</td>\n",
       "      <td>612.696514</td>\n",
       "      <td>327582.0</td>\n",
       "      <td>17.5</td>\n",
       "      <td>0.476</td>\n",
       "      <td>10.0</td>\n",
       "    </tr>\n",
       "    <tr>\n",
       "      <td>2</td>\n",
       "      <td>0</td>\n",
       "      <td>59.9</td>\n",
       "      <td>268.0</td>\n",
       "      <td>66</td>\n",
       "      <td>0.01</td>\n",
       "      <td>73.219243</td>\n",
       "      <td>430</td>\n",
       "      <td>18.1</td>\n",
       "      <td>89</td>\n",
       "      <td>62.0</td>\n",
       "      <td>8.13</td>\n",
       "      <td>64.0</td>\n",
       "      <td>0.1</td>\n",
       "      <td>631.744976</td>\n",
       "      <td>31731688.0</td>\n",
       "      <td>17.7</td>\n",
       "      <td>0.470</td>\n",
       "      <td>9.9</td>\n",
       "    </tr>\n",
       "    <tr>\n",
       "      <td>3</td>\n",
       "      <td>0</td>\n",
       "      <td>59.5</td>\n",
       "      <td>272.0</td>\n",
       "      <td>69</td>\n",
       "      <td>0.01</td>\n",
       "      <td>78.184215</td>\n",
       "      <td>2787</td>\n",
       "      <td>17.6</td>\n",
       "      <td>93</td>\n",
       "      <td>67.0</td>\n",
       "      <td>8.52</td>\n",
       "      <td>67.0</td>\n",
       "      <td>0.1</td>\n",
       "      <td>669.959000</td>\n",
       "      <td>3696958.0</td>\n",
       "      <td>17.9</td>\n",
       "      <td>0.463</td>\n",
       "      <td>9.8</td>\n",
       "    </tr>\n",
       "    <tr>\n",
       "      <td>4</td>\n",
       "      <td>0</td>\n",
       "      <td>59.2</td>\n",
       "      <td>275.0</td>\n",
       "      <td>71</td>\n",
       "      <td>0.01</td>\n",
       "      <td>7.097109</td>\n",
       "      <td>3013</td>\n",
       "      <td>17.2</td>\n",
       "      <td>97</td>\n",
       "      <td>68.0</td>\n",
       "      <td>7.87</td>\n",
       "      <td>68.0</td>\n",
       "      <td>0.1</td>\n",
       "      <td>63.537231</td>\n",
       "      <td>2978599.0</td>\n",
       "      <td>18.2</td>\n",
       "      <td>0.454</td>\n",
       "      <td>9.5</td>\n",
       "    </tr>\n",
       "  </tbody>\n",
       "</table>\n",
       "</div>"
      ],
      "text/plain": [
       "   status  lifex  adult_mortality  infant_deaths  alcohol  perc_expend  \\\n",
       "0       0   65.0            263.0             62     0.01    71.279624   \n",
       "1       0   59.9            271.0             64     0.01    73.523582   \n",
       "2       0   59.9            268.0             66     0.01    73.219243   \n",
       "3       0   59.5            272.0             69     0.01    78.184215   \n",
       "4       0   59.2            275.0             71     0.01     7.097109   \n",
       "\n",
       "   measles   bmi  under_five_deaths  polio  tot_expend  diphtheria  hiv_aids  \\\n",
       "0     1154  19.1                 83    6.0        8.16        65.0       0.1   \n",
       "1      492  18.6                 86   58.0        8.18        62.0       0.1   \n",
       "2      430  18.1                 89   62.0        8.13        64.0       0.1   \n",
       "3     2787  17.6                 93   67.0        8.52        67.0       0.1   \n",
       "4     3013  17.2                 97   68.0        7.87        68.0       0.1   \n",
       "\n",
       "          gdp         pop  thinness__1_19_years  income_comp  schooling  \n",
       "0  584.259210  33736494.0                  17.2        0.479       10.1  \n",
       "1  612.696514    327582.0                  17.5        0.476       10.0  \n",
       "2  631.744976  31731688.0                  17.7        0.470        9.9  \n",
       "3  669.959000   3696958.0                  17.9        0.463        9.8  \n",
       "4   63.537231   2978599.0                  18.2        0.454        9.5  "
      ]
     },
     "execution_count": 38,
     "metadata": {},
     "output_type": "execute_result"
    }
   ],
   "source": [
    "df2.head()"
   ]
  },
  {
   "cell_type": "markdown",
   "metadata": {},
   "source": [
    "# Feature Engineering (None of these improved the model)"
   ]
  },
  {
   "cell_type": "code",
   "execution_count": 39,
   "metadata": {},
   "outputs": [],
   "source": [
    "# df2['gdp_capita'] = df2['gdp']/df2['pop']*1000000     DID NOT WORK\n",
    "# df2['gdp_rat_expend'] = df2['gdp']*df2['tot_expend']   BARELY WORKED, NOT WORTH COMPLEXITY"
   ]
  },
  {
   "cell_type": "code",
   "execution_count": 40,
   "metadata": {},
   "outputs": [],
   "source": [
    "# df2['infant_rate'] = df2.infant_deaths/df2.pop_fix"
   ]
  },
  {
   "cell_type": "code",
   "execution_count": 41,
   "metadata": {},
   "outputs": [],
   "source": [
    "# df2['under5_rate'] = df2.under_five_deaths/df2.pop_fix"
   ]
  },
  {
   "cell_type": "code",
   "execution_count": 42,
   "metadata": {},
   "outputs": [],
   "source": [
    "# df2['gdp_rate'] = df2.perc_expend*df2.gdp/100"
   ]
  },
  {
   "cell_type": "code",
   "execution_count": null,
   "metadata": {},
   "outputs": [],
   "source": []
  },
  {
   "cell_type": "code",
   "execution_count": 43,
   "metadata": {},
   "outputs": [
    {
     "data": {
      "text/html": [
       "<div>\n",
       "<style scoped>\n",
       "    .dataframe tbody tr th:only-of-type {\n",
       "        vertical-align: middle;\n",
       "    }\n",
       "\n",
       "    .dataframe tbody tr th {\n",
       "        vertical-align: top;\n",
       "    }\n",
       "\n",
       "    .dataframe thead th {\n",
       "        text-align: right;\n",
       "    }\n",
       "</style>\n",
       "<table border=\"1\" class=\"dataframe\">\n",
       "  <thead>\n",
       "    <tr style=\"text-align: right;\">\n",
       "      <th></th>\n",
       "      <th>status</th>\n",
       "      <th>lifex</th>\n",
       "      <th>adult_mortality</th>\n",
       "      <th>infant_deaths</th>\n",
       "      <th>alcohol</th>\n",
       "      <th>perc_expend</th>\n",
       "      <th>measles</th>\n",
       "      <th>bmi</th>\n",
       "      <th>under_five_deaths</th>\n",
       "      <th>polio</th>\n",
       "      <th>tot_expend</th>\n",
       "      <th>diphtheria</th>\n",
       "      <th>hiv_aids</th>\n",
       "      <th>gdp</th>\n",
       "      <th>pop</th>\n",
       "      <th>thinness__1_19_years</th>\n",
       "      <th>income_comp</th>\n",
       "      <th>schooling</th>\n",
       "    </tr>\n",
       "  </thead>\n",
       "  <tbody>\n",
       "    <tr>\n",
       "      <td>0</td>\n",
       "      <td>0</td>\n",
       "      <td>65.0</td>\n",
       "      <td>263.0</td>\n",
       "      <td>62</td>\n",
       "      <td>0.01</td>\n",
       "      <td>71.279624</td>\n",
       "      <td>1154</td>\n",
       "      <td>19.1</td>\n",
       "      <td>83</td>\n",
       "      <td>6.0</td>\n",
       "      <td>8.16</td>\n",
       "      <td>65.0</td>\n",
       "      <td>0.1</td>\n",
       "      <td>584.259210</td>\n",
       "      <td>33736494.0</td>\n",
       "      <td>17.2</td>\n",
       "      <td>0.479</td>\n",
       "      <td>10.1</td>\n",
       "    </tr>\n",
       "    <tr>\n",
       "      <td>1</td>\n",
       "      <td>0</td>\n",
       "      <td>59.9</td>\n",
       "      <td>271.0</td>\n",
       "      <td>64</td>\n",
       "      <td>0.01</td>\n",
       "      <td>73.523582</td>\n",
       "      <td>492</td>\n",
       "      <td>18.6</td>\n",
       "      <td>86</td>\n",
       "      <td>58.0</td>\n",
       "      <td>8.18</td>\n",
       "      <td>62.0</td>\n",
       "      <td>0.1</td>\n",
       "      <td>612.696514</td>\n",
       "      <td>327582.0</td>\n",
       "      <td>17.5</td>\n",
       "      <td>0.476</td>\n",
       "      <td>10.0</td>\n",
       "    </tr>\n",
       "    <tr>\n",
       "      <td>2</td>\n",
       "      <td>0</td>\n",
       "      <td>59.9</td>\n",
       "      <td>268.0</td>\n",
       "      <td>66</td>\n",
       "      <td>0.01</td>\n",
       "      <td>73.219243</td>\n",
       "      <td>430</td>\n",
       "      <td>18.1</td>\n",
       "      <td>89</td>\n",
       "      <td>62.0</td>\n",
       "      <td>8.13</td>\n",
       "      <td>64.0</td>\n",
       "      <td>0.1</td>\n",
       "      <td>631.744976</td>\n",
       "      <td>31731688.0</td>\n",
       "      <td>17.7</td>\n",
       "      <td>0.470</td>\n",
       "      <td>9.9</td>\n",
       "    </tr>\n",
       "    <tr>\n",
       "      <td>3</td>\n",
       "      <td>0</td>\n",
       "      <td>59.5</td>\n",
       "      <td>272.0</td>\n",
       "      <td>69</td>\n",
       "      <td>0.01</td>\n",
       "      <td>78.184215</td>\n",
       "      <td>2787</td>\n",
       "      <td>17.6</td>\n",
       "      <td>93</td>\n",
       "      <td>67.0</td>\n",
       "      <td>8.52</td>\n",
       "      <td>67.0</td>\n",
       "      <td>0.1</td>\n",
       "      <td>669.959000</td>\n",
       "      <td>3696958.0</td>\n",
       "      <td>17.9</td>\n",
       "      <td>0.463</td>\n",
       "      <td>9.8</td>\n",
       "    </tr>\n",
       "    <tr>\n",
       "      <td>4</td>\n",
       "      <td>0</td>\n",
       "      <td>59.2</td>\n",
       "      <td>275.0</td>\n",
       "      <td>71</td>\n",
       "      <td>0.01</td>\n",
       "      <td>7.097109</td>\n",
       "      <td>3013</td>\n",
       "      <td>17.2</td>\n",
       "      <td>97</td>\n",
       "      <td>68.0</td>\n",
       "      <td>7.87</td>\n",
       "      <td>68.0</td>\n",
       "      <td>0.1</td>\n",
       "      <td>63.537231</td>\n",
       "      <td>2978599.0</td>\n",
       "      <td>18.2</td>\n",
       "      <td>0.454</td>\n",
       "      <td>9.5</td>\n",
       "    </tr>\n",
       "  </tbody>\n",
       "</table>\n",
       "</div>"
      ],
      "text/plain": [
       "   status  lifex  adult_mortality  infant_deaths  alcohol  perc_expend  \\\n",
       "0       0   65.0            263.0             62     0.01    71.279624   \n",
       "1       0   59.9            271.0             64     0.01    73.523582   \n",
       "2       0   59.9            268.0             66     0.01    73.219243   \n",
       "3       0   59.5            272.0             69     0.01    78.184215   \n",
       "4       0   59.2            275.0             71     0.01     7.097109   \n",
       "\n",
       "   measles   bmi  under_five_deaths  polio  tot_expend  diphtheria  hiv_aids  \\\n",
       "0     1154  19.1                 83    6.0        8.16        65.0       0.1   \n",
       "1      492  18.6                 86   58.0        8.18        62.0       0.1   \n",
       "2      430  18.1                 89   62.0        8.13        64.0       0.1   \n",
       "3     2787  17.6                 93   67.0        8.52        67.0       0.1   \n",
       "4     3013  17.2                 97   68.0        7.87        68.0       0.1   \n",
       "\n",
       "          gdp         pop  thinness__1_19_years  income_comp  schooling  \n",
       "0  584.259210  33736494.0                  17.2        0.479       10.1  \n",
       "1  612.696514    327582.0                  17.5        0.476       10.0  \n",
       "2  631.744976  31731688.0                  17.7        0.470        9.9  \n",
       "3  669.959000   3696958.0                  17.9        0.463        9.8  \n",
       "4   63.537231   2978599.0                  18.2        0.454        9.5  "
      ]
     },
     "execution_count": 43,
     "metadata": {},
     "output_type": "execute_result"
    }
   ],
   "source": [
    "df2.head()"
   ]
  },
  {
   "cell_type": "code",
   "execution_count": 44,
   "metadata": {},
   "outputs": [
    {
     "data": {
      "text/plain": [
       "(2244, 18)"
      ]
     },
     "execution_count": 44,
     "metadata": {},
     "output_type": "execute_result"
    }
   ],
   "source": [
    "df2.shape"
   ]
  },
  {
   "cell_type": "markdown",
   "metadata": {},
   "source": [
    "# Transformation and Scaling"
   ]
  },
  {
   "cell_type": "code",
   "execution_count": 45,
   "metadata": {},
   "outputs": [],
   "source": [
    "# df2['loglife'] = np.log(df['Life expectancy '])   # DIDN'T WORK, ALEADY NORMALISH"
   ]
  },
  {
   "cell_type": "code",
   "execution_count": 46,
   "metadata": {},
   "outputs": [],
   "source": [
    "# LOGGING and NORMALIZING DID NOT IMPROVE OUR MODEL"
   ]
  },
  {
   "cell_type": "markdown",
   "metadata": {},
   "source": [
    "# EDA and Visuals/Correlations"
   ]
  },
  {
   "cell_type": "code",
   "execution_count": 47,
   "metadata": {
    "scrolled": false
   },
   "outputs": [],
   "source": [
    "co_sort = df.groupby('Country')['Life expectancy '].mean().sort_values(ascending=False)"
   ]
  },
  {
   "cell_type": "code",
   "execution_count": 48,
   "metadata": {},
   "outputs": [
    {
     "data": {
      "text/html": [
       "<div>\n",
       "<style scoped>\n",
       "    .dataframe tbody tr th:only-of-type {\n",
       "        vertical-align: middle;\n",
       "    }\n",
       "\n",
       "    .dataframe tbody tr th {\n",
       "        vertical-align: top;\n",
       "    }\n",
       "\n",
       "    .dataframe thead th {\n",
       "        text-align: right;\n",
       "    }\n",
       "</style>\n",
       "<table border=\"1\" class=\"dataframe\">\n",
       "  <thead>\n",
       "    <tr style=\"text-align: right;\">\n",
       "      <th></th>\n",
       "      <th>Country</th>\n",
       "      <th>Life expectancy</th>\n",
       "    </tr>\n",
       "  </thead>\n",
       "  <tbody>\n",
       "    <tr>\n",
       "      <td>0</td>\n",
       "      <td>Malawi</td>\n",
       "      <td>49.89375</td>\n",
       "    </tr>\n",
       "    <tr>\n",
       "      <td>1</td>\n",
       "      <td>Angola</td>\n",
       "      <td>49.01875</td>\n",
       "    </tr>\n",
       "    <tr>\n",
       "      <td>2</td>\n",
       "      <td>Lesotho</td>\n",
       "      <td>48.78125</td>\n",
       "    </tr>\n",
       "    <tr>\n",
       "      <td>3</td>\n",
       "      <td>Central African Republic</td>\n",
       "      <td>48.51250</td>\n",
       "    </tr>\n",
       "    <tr>\n",
       "      <td>4</td>\n",
       "      <td>Sierra Leone</td>\n",
       "      <td>46.11250</td>\n",
       "    </tr>\n",
       "  </tbody>\n",
       "</table>\n",
       "</div>"
      ],
      "text/plain": [
       "                    Country  Life expectancy \n",
       "0                    Malawi          49.89375\n",
       "1                    Angola          49.01875\n",
       "2                   Lesotho          48.78125\n",
       "3  Central African Republic          48.51250\n",
       "4              Sierra Leone          46.11250"
      ]
     },
     "execution_count": 48,
     "metadata": {},
     "output_type": "execute_result"
    }
   ],
   "source": [
    "lowc = pd.DataFrame(co_sort[-15:-10]).reset_index()\n",
    "lowc"
   ]
  },
  {
   "cell_type": "code",
   "execution_count": 49,
   "metadata": {},
   "outputs": [
    {
     "data": {
      "text/plain": [
       "Country\n",
       "Japan          82.53750\n",
       "Sweden         82.51875\n",
       "Iceland        82.44375\n",
       "Switzerland    82.33125\n",
       "France         82.21875\n",
       "Name: Life expectancy , dtype: float64"
      ]
     },
     "execution_count": 49,
     "metadata": {},
     "output_type": "execute_result"
    }
   ],
   "source": [
    "co_sort[:5]"
   ]
  },
  {
   "cell_type": "code",
   "execution_count": 50,
   "metadata": {
    "scrolled": true
   },
   "outputs": [
    {
     "data": {
      "text/html": [
       "<div>\n",
       "<style scoped>\n",
       "    .dataframe tbody tr th:only-of-type {\n",
       "        vertical-align: middle;\n",
       "    }\n",
       "\n",
       "    .dataframe tbody tr th {\n",
       "        vertical-align: top;\n",
       "    }\n",
       "\n",
       "    .dataframe thead th {\n",
       "        text-align: right;\n",
       "    }\n",
       "</style>\n",
       "<table border=\"1\" class=\"dataframe\">\n",
       "  <thead>\n",
       "    <tr style=\"text-align: right;\">\n",
       "      <th></th>\n",
       "      <th>Country</th>\n",
       "      <th>Life expectancy</th>\n",
       "    </tr>\n",
       "  </thead>\n",
       "  <tbody>\n",
       "    <tr>\n",
       "      <td>0</td>\n",
       "      <td>Japan</td>\n",
       "      <td>82.53750</td>\n",
       "    </tr>\n",
       "    <tr>\n",
       "      <td>1</td>\n",
       "      <td>Sweden</td>\n",
       "      <td>82.51875</td>\n",
       "    </tr>\n",
       "    <tr>\n",
       "      <td>2</td>\n",
       "      <td>Iceland</td>\n",
       "      <td>82.44375</td>\n",
       "    </tr>\n",
       "    <tr>\n",
       "      <td>3</td>\n",
       "      <td>Switzerland</td>\n",
       "      <td>82.33125</td>\n",
       "    </tr>\n",
       "    <tr>\n",
       "      <td>4</td>\n",
       "      <td>France</td>\n",
       "      <td>82.21875</td>\n",
       "    </tr>\n",
       "  </tbody>\n",
       "</table>\n",
       "</div>"
      ],
      "text/plain": [
       "       Country  Life expectancy \n",
       "0        Japan          82.53750\n",
       "1       Sweden          82.51875\n",
       "2      Iceland          82.44375\n",
       "3  Switzerland          82.33125\n",
       "4       France          82.21875"
      ]
     },
     "execution_count": 50,
     "metadata": {},
     "output_type": "execute_result"
    }
   ],
   "source": [
    "highc = pd.DataFrame(co_sort[:5]).reset_index()\n",
    "highc"
   ]
  },
  {
   "cell_type": "code",
   "execution_count": 51,
   "metadata": {},
   "outputs": [],
   "source": [
    "cat = pd.concat([lowc,highc])"
   ]
  },
  {
   "cell_type": "code",
   "execution_count": 52,
   "metadata": {},
   "outputs": [
    {
     "data": {
      "text/plain": [
       "Text(0, 0.5, 'Life Expectancy')"
      ]
     },
     "execution_count": 52,
     "metadata": {},
     "output_type": "execute_result"
    },
    {
     "data": {
      "image/png": "[encoded data removed]",
      "text/plain": [
       "<Figure size 432x288 with 1 Axes>"
      ]
     },
     "metadata": {
      "needs_background": "light"
     },
     "output_type": "display_data"
    }
   ],
   "source": [
    "\n",
    "plt.bar(cat.Country, cat['Life expectancy '])\n",
    "plt.xticks(rotation=60)\n",
    "plt.title('Highest and Lowest')\n",
    "plt.xlabel('Country')\n",
    "plt.ylabel('Life Expectancy')"
   ]
  },
  {
   "cell_type": "markdown",
   "metadata": {},
   "source": [
    "## Visualizing Log Transformations"
   ]
  },
  {
   "cell_type": "code",
   "execution_count": 53,
   "metadata": {
    "scrolled": false
   },
   "outputs": [],
   "source": [
    "def analyse_continous(df, var):\n",
    "    plt.figure(figsize=(9,6))\n",
    "    dfv = df.copy()\n",
    "    sns.distplot(dfv[var])\n",
    "    plt.ylabel('Count')\n",
    "    plt.xlabel('Life Expectancy')\n",
    "    plt.title('Life Expectancy by Country', fontsize=15)\n",
    "    plt.show()\n",
    "\n",
    "def analyse_transformed_continous(df, var):\n",
    "    dfv = df.copy()\n",
    "    plt.figure(figsize=(9,6))\n",
    "    # log does not take negative values, so let's be careful and skip those variables\n",
    "    if 0 in dfv[var].unique():\n",
    "        print(f'{var} contains zeroes, no graph')\n",
    "    else:\n",
    "        # log transform the variable\n",
    "        dfv[var] = np.log(dfv[var])\n",
    "        sns.distplot(dfv[var])\n",
    "        plt.ylabel('Number of houses')\n",
    "        plt.xlabel(var)\n",
    "        plt.title(f'log_{var}')\n",
    "        plt.show()\n",
    "    \n",
    "# THE FOLLOWING SHOWS DISPLOTS FOR EVERY LOG TRANSFORMED FEATURE/TARGET\n",
    "    \n",
    "# for var in df2.columns:\n",
    "#     analyse_continous(df2, var)\n",
    "#     analyse_transformed_continous(df2, var)\n",
    "#     print('-----------------')"
   ]
  },
  {
   "cell_type": "code",
   "execution_count": 54,
   "metadata": {},
   "outputs": [],
   "source": [
    "corr = df2.corr()"
   ]
  },
  {
   "cell_type": "code",
   "execution_count": 55,
   "metadata": {
    "scrolled": false
   },
   "outputs": [
    {
     "data": {
      "text/plain": [
       "<matplotlib.axes._subplots.AxesSubplot at 0x1c20f6a3d0>"
      ]
     },
     "execution_count": 55,
     "metadata": {},
     "output_type": "execute_result"
    },
    {
     "data": {
      "image/png": "[encoded data removed]",
      "text/plain": [
       "<Figure size 576x360 with 2 Axes>"
      ]
     },
     "metadata": {
      "needs_background": "light"
     },
     "output_type": "display_data"
    }
   ],
   "source": [
    "plt.figure(figsize = (8,5))\n",
    "sns.heatmap(corr)"
   ]
  },
  {
   "cell_type": "code",
   "execution_count": 56,
   "metadata": {},
   "outputs": [],
   "source": [
    "# sns.pairplot(df2) "
   ]
  },
  {
   "cell_type": "markdown",
   "metadata": {},
   "source": [
    "## CORRELATIONS AND VISUALS FOR CONCLUSION"
   ]
  },
  {
   "cell_type": "code",
   "execution_count": 213,
   "metadata": {
    "scrolled": true
   },
   "outputs": [
    {
     "data": {
      "text/plain": [
       "<matplotlib.axes._subplots.AxesSubplot at 0x1c25bc2190>"
      ]
     },
     "execution_count": 213,
     "metadata": {},
     "output_type": "execute_result"
    },
    {
     "data": {
      "image/png": "[encoded data removed]",
      "text/plain": [
       "<Figure size 936x288 with 3 Axes>"
      ]
     },
     "metadata": {
      "needs_background": "light"
     },
     "output_type": "display_data"
    }
   ],
   "source": [
    "fig, axes = plt.subplots(1,3, figsize=(13,4), sharey = True)\n",
    "sns.regplot(x='schooling', y='lifex', data=df2, ax=axes[0])\n",
    "sns.regplot(x='bmi', y='lifex', data=df2, ax=axes[1])\n",
    "sns.regplot(x='adult_mortality', y='lifex', data=df2, ax=axes[2])"
   ]
  },
  {
   "cell_type": "code",
   "execution_count": 214,
   "metadata": {},
   "outputs": [],
   "source": [
    "corr = df2.corr()"
   ]
  },
  {
   "cell_type": "code",
   "execution_count": 215,
   "metadata": {},
   "outputs": [
    {
     "data": {
      "text/html": [
       "<div>\n",
       "<style scoped>\n",
       "    .dataframe tbody tr th:only-of-type {\n",
       "        vertical-align: middle;\n",
       "    }\n",
       "\n",
       "    .dataframe tbody tr th {\n",
       "        vertical-align: top;\n",
       "    }\n",
       "\n",
       "    .dataframe thead th {\n",
       "        text-align: right;\n",
       "    }\n",
       "</style>\n",
       "<table border=\"1\" class=\"dataframe\">\n",
       "  <thead>\n",
       "    <tr style=\"text-align: right;\">\n",
       "      <th></th>\n",
       "      <th>status</th>\n",
       "      <th>lifex</th>\n",
       "      <th>adult_mortality</th>\n",
       "      <th>infant_deaths</th>\n",
       "      <th>alcohol</th>\n",
       "      <th>perc_expend</th>\n",
       "      <th>measles</th>\n",
       "      <th>bmi</th>\n",
       "      <th>under_five_deaths</th>\n",
       "      <th>polio</th>\n",
       "      <th>tot_expend</th>\n",
       "      <th>diphtheria</th>\n",
       "      <th>hiv_aids</th>\n",
       "      <th>gdp</th>\n",
       "      <th>pop</th>\n",
       "      <th>thinness_5_9_years</th>\n",
       "      <th>income_comp</th>\n",
       "      <th>schooling</th>\n",
       "    </tr>\n",
       "  </thead>\n",
       "  <tbody>\n",
       "    <tr>\n",
       "      <td>status</td>\n",
       "      <td>1.000000</td>\n",
       "      <td>0.507923</td>\n",
       "      <td>-0.324878</td>\n",
       "      <td>-0.119804</td>\n",
       "      <td>0.604666</td>\n",
       "      <td>0.498519</td>\n",
       "      <td>-0.081837</td>\n",
       "      <td>0.351459</td>\n",
       "      <td>-0.122500</td>\n",
       "      <td>0.252266</td>\n",
       "      <td>0.256758</td>\n",
       "      <td>0.247582</td>\n",
       "      <td>-0.164749</td>\n",
       "      <td>0.535281</td>\n",
       "      <td>-0.046552</td>\n",
       "      <td>-0.361785</td>\n",
       "      <td>0.527794</td>\n",
       "      <td>0.563150</td>\n",
       "    </tr>\n",
       "    <tr>\n",
       "      <td>lifex</td>\n",
       "      <td>0.507923</td>\n",
       "      <td>1.000000</td>\n",
       "      <td>-0.674593</td>\n",
       "      <td>-0.173029</td>\n",
       "      <td>0.414262</td>\n",
       "      <td>0.409859</td>\n",
       "      <td>-0.138045</td>\n",
       "      <td>0.588304</td>\n",
       "      <td>-0.198734</td>\n",
       "      <td>0.437254</td>\n",
       "      <td>0.223362</td>\n",
       "      <td>0.457653</td>\n",
       "      <td>-0.568724</td>\n",
       "      <td>0.464602</td>\n",
       "      <td>-0.022897</td>\n",
       "      <td>-0.477466</td>\n",
       "      <td>0.765561</td>\n",
       "      <td>0.781350</td>\n",
       "    </tr>\n",
       "    <tr>\n",
       "      <td>adult_mortality</td>\n",
       "      <td>-0.324878</td>\n",
       "      <td>-0.674593</td>\n",
       "      <td>1.000000</td>\n",
       "      <td>0.052829</td>\n",
       "      <td>-0.208354</td>\n",
       "      <td>-0.252934</td>\n",
       "      <td>0.000127</td>\n",
       "      <td>-0.375719</td>\n",
       "      <td>0.067417</td>\n",
       "      <td>-0.229302</td>\n",
       "      <td>-0.119770</td>\n",
       "      <td>-0.227061</td>\n",
       "      <td>0.536572</td>\n",
       "      <td>-0.283346</td>\n",
       "      <td>-0.012899</td>\n",
       "      <td>0.306928</td>\n",
       "      <td>-0.451394</td>\n",
       "      <td>-0.444721</td>\n",
       "    </tr>\n",
       "    <tr>\n",
       "      <td>infant_deaths</td>\n",
       "      <td>-0.119804</td>\n",
       "      <td>-0.173029</td>\n",
       "      <td>0.052829</td>\n",
       "      <td>1.000000</td>\n",
       "      <td>-0.113588</td>\n",
       "      <td>-0.089320</td>\n",
       "      <td>0.519139</td>\n",
       "      <td>-0.228670</td>\n",
       "      <td>0.996613</td>\n",
       "      <td>-0.158233</td>\n",
       "      <td>-0.147105</td>\n",
       "      <td>-0.161257</td>\n",
       "      <td>0.008670</td>\n",
       "      <td>-0.103422</td>\n",
       "      <td>0.556835</td>\n",
       "      <td>0.492187</td>\n",
       "      <td>-0.154878</td>\n",
       "      <td>-0.210071</td>\n",
       "    </tr>\n",
       "    <tr>\n",
       "      <td>alcohol</td>\n",
       "      <td>0.604666</td>\n",
       "      <td>0.414262</td>\n",
       "      <td>-0.208354</td>\n",
       "      <td>-0.113588</td>\n",
       "      <td>1.000000</td>\n",
       "      <td>0.415648</td>\n",
       "      <td>-0.036830</td>\n",
       "      <td>0.380188</td>\n",
       "      <td>-0.109557</td>\n",
       "      <td>0.248644</td>\n",
       "      <td>0.263109</td>\n",
       "      <td>0.254487</td>\n",
       "      <td>-0.051818</td>\n",
       "      <td>0.445057</td>\n",
       "      <td>-0.034968</td>\n",
       "      <td>-0.402675</td>\n",
       "      <td>0.542885</td>\n",
       "      <td>0.592556</td>\n",
       "    </tr>\n",
       "    <tr>\n",
       "      <td>perc_expend</td>\n",
       "      <td>0.498519</td>\n",
       "      <td>0.409859</td>\n",
       "      <td>-0.252934</td>\n",
       "      <td>-0.089320</td>\n",
       "      <td>0.415648</td>\n",
       "      <td>1.000000</td>\n",
       "      <td>-0.060543</td>\n",
       "      <td>0.258716</td>\n",
       "      <td>-0.091745</td>\n",
       "      <td>0.162318</td>\n",
       "      <td>0.241932</td>\n",
       "      <td>0.162856</td>\n",
       "      <td>-0.110176</td>\n",
       "      <td>0.937479</td>\n",
       "      <td>-0.026205</td>\n",
       "      <td>-0.274088</td>\n",
       "      <td>0.409931</td>\n",
       "      <td>0.422822</td>\n",
       "    </tr>\n",
       "    <tr>\n",
       "      <td>measles</td>\n",
       "      <td>-0.081837</td>\n",
       "      <td>-0.138045</td>\n",
       "      <td>0.000127</td>\n",
       "      <td>0.519139</td>\n",
       "      <td>-0.036830</td>\n",
       "      <td>-0.060543</td>\n",
       "      <td>1.000000</td>\n",
       "      <td>-0.171510</td>\n",
       "      <td>0.526444</td>\n",
       "      <td>-0.113652</td>\n",
       "      <td>-0.108126</td>\n",
       "      <td>-0.117241</td>\n",
       "      <td>0.022623</td>\n",
       "      <td>-0.070837</td>\n",
       "      <td>0.265894</td>\n",
       "      <td>0.231832</td>\n",
       "      <td>-0.142676</td>\n",
       "      <td>-0.152535</td>\n",
       "    </tr>\n",
       "    <tr>\n",
       "      <td>bmi</td>\n",
       "      <td>0.351459</td>\n",
       "      <td>0.588304</td>\n",
       "      <td>-0.375719</td>\n",
       "      <td>-0.228670</td>\n",
       "      <td>0.380188</td>\n",
       "      <td>0.258716</td>\n",
       "      <td>-0.171510</td>\n",
       "      <td>1.000000</td>\n",
       "      <td>-0.238801</td>\n",
       "      <td>0.271956</td>\n",
       "      <td>0.229849</td>\n",
       "      <td>0.272201</td>\n",
       "      <td>-0.242197</td>\n",
       "      <td>0.306962</td>\n",
       "      <td>-0.071956</td>\n",
       "      <td>-0.563279</td>\n",
       "      <td>0.553484</td>\n",
       "      <td>0.598014</td>\n",
       "    </tr>\n",
       "    <tr>\n",
       "      <td>under_five_deaths</td>\n",
       "      <td>-0.122500</td>\n",
       "      <td>-0.198734</td>\n",
       "      <td>0.067417</td>\n",
       "      <td>0.996613</td>\n",
       "      <td>-0.109557</td>\n",
       "      <td>-0.091745</td>\n",
       "      <td>0.526444</td>\n",
       "      <td>-0.238801</td>\n",
       "      <td>1.000000</td>\n",
       "      <td>-0.175984</td>\n",
       "      <td>-0.147833</td>\n",
       "      <td>-0.181951</td>\n",
       "      <td>0.020571</td>\n",
       "      <td>-0.106888</td>\n",
       "      <td>0.544494</td>\n",
       "      <td>0.492687</td>\n",
       "      <td>-0.174482</td>\n",
       "      <td>-0.226671</td>\n",
       "    </tr>\n",
       "    <tr>\n",
       "      <td>polio</td>\n",
       "      <td>0.252266</td>\n",
       "      <td>0.437254</td>\n",
       "      <td>-0.229302</td>\n",
       "      <td>-0.158233</td>\n",
       "      <td>0.248644</td>\n",
       "      <td>0.162318</td>\n",
       "      <td>-0.113652</td>\n",
       "      <td>0.271956</td>\n",
       "      <td>-0.175984</td>\n",
       "      <td>1.000000</td>\n",
       "      <td>0.170590</td>\n",
       "      <td>0.671120</td>\n",
       "      <td>-0.145686</td>\n",
       "      <td>0.197687</td>\n",
       "      <td>-0.039206</td>\n",
       "      <td>-0.223990</td>\n",
       "      <td>0.399251</td>\n",
       "      <td>0.430800</td>\n",
       "    </tr>\n",
       "    <tr>\n",
       "      <td>tot_expend</td>\n",
       "      <td>0.256758</td>\n",
       "      <td>0.223362</td>\n",
       "      <td>-0.119770</td>\n",
       "      <td>-0.147105</td>\n",
       "      <td>0.263109</td>\n",
       "      <td>0.241932</td>\n",
       "      <td>-0.108126</td>\n",
       "      <td>0.229849</td>\n",
       "      <td>-0.147833</td>\n",
       "      <td>0.170590</td>\n",
       "      <td>1.000000</td>\n",
       "      <td>0.182833</td>\n",
       "      <td>0.010009</td>\n",
       "      <td>0.234349</td>\n",
       "      <td>-0.080109</td>\n",
       "      <td>-0.259147</td>\n",
       "      <td>0.231590</td>\n",
       "      <td>0.295150</td>\n",
       "    </tr>\n",
       "    <tr>\n",
       "      <td>diphtheria</td>\n",
       "      <td>0.247582</td>\n",
       "      <td>0.457653</td>\n",
       "      <td>-0.227061</td>\n",
       "      <td>-0.161257</td>\n",
       "      <td>0.254487</td>\n",
       "      <td>0.162856</td>\n",
       "      <td>-0.117241</td>\n",
       "      <td>0.272201</td>\n",
       "      <td>-0.181951</td>\n",
       "      <td>0.671120</td>\n",
       "      <td>0.182833</td>\n",
       "      <td>1.000000</td>\n",
       "      <td>-0.155446</td>\n",
       "      <td>0.195298</td>\n",
       "      <td>-0.028881</td>\n",
       "      <td>-0.231971</td>\n",
       "      <td>0.433213</td>\n",
       "      <td>0.448809</td>\n",
       "    </tr>\n",
       "    <tr>\n",
       "      <td>hiv_aids</td>\n",
       "      <td>-0.164749</td>\n",
       "      <td>-0.568724</td>\n",
       "      <td>0.536572</td>\n",
       "      <td>0.008670</td>\n",
       "      <td>-0.051818</td>\n",
       "      <td>-0.110176</td>\n",
       "      <td>0.022623</td>\n",
       "      <td>-0.242197</td>\n",
       "      <td>0.020571</td>\n",
       "      <td>-0.145686</td>\n",
       "      <td>0.010009</td>\n",
       "      <td>-0.155446</td>\n",
       "      <td>1.000000</td>\n",
       "      <td>-0.130335</td>\n",
       "      <td>-0.027718</td>\n",
       "      <td>0.206204</td>\n",
       "      <td>-0.265358</td>\n",
       "      <td>-0.234328</td>\n",
       "    </tr>\n",
       "    <tr>\n",
       "      <td>gdp</td>\n",
       "      <td>0.535281</td>\n",
       "      <td>0.464602</td>\n",
       "      <td>-0.283346</td>\n",
       "      <td>-0.103422</td>\n",
       "      <td>0.445057</td>\n",
       "      <td>0.937479</td>\n",
       "      <td>-0.070837</td>\n",
       "      <td>0.306962</td>\n",
       "      <td>-0.106888</td>\n",
       "      <td>0.197687</td>\n",
       "      <td>0.234349</td>\n",
       "      <td>0.195298</td>\n",
       "      <td>-0.130335</td>\n",
       "      <td>1.000000</td>\n",
       "      <td>-0.028542</td>\n",
       "      <td>-0.309872</td>\n",
       "      <td>0.476269</td>\n",
       "      <td>0.492112</td>\n",
       "    </tr>\n",
       "    <tr>\n",
       "      <td>pop</td>\n",
       "      <td>-0.046552</td>\n",
       "      <td>-0.022897</td>\n",
       "      <td>-0.012899</td>\n",
       "      <td>0.556835</td>\n",
       "      <td>-0.034968</td>\n",
       "      <td>-0.026205</td>\n",
       "      <td>0.265894</td>\n",
       "      <td>-0.071956</td>\n",
       "      <td>0.544494</td>\n",
       "      <td>-0.039206</td>\n",
       "      <td>-0.080109</td>\n",
       "      <td>-0.028881</td>\n",
       "      <td>-0.027718</td>\n",
       "      <td>-0.028542</td>\n",
       "      <td>1.000000</td>\n",
       "      <td>0.251695</td>\n",
       "      <td>-0.012356</td>\n",
       "      <td>-0.038083</td>\n",
       "    </tr>\n",
       "    <tr>\n",
       "      <td>thinness_5_9_years</td>\n",
       "      <td>-0.361785</td>\n",
       "      <td>-0.477466</td>\n",
       "      <td>0.306928</td>\n",
       "      <td>0.492187</td>\n",
       "      <td>-0.402675</td>\n",
       "      <td>-0.274088</td>\n",
       "      <td>0.231832</td>\n",
       "      <td>-0.563279</td>\n",
       "      <td>0.492687</td>\n",
       "      <td>-0.223990</td>\n",
       "      <td>-0.259147</td>\n",
       "      <td>-0.231971</td>\n",
       "      <td>0.206204</td>\n",
       "      <td>-0.309872</td>\n",
       "      <td>0.251695</td>\n",
       "      <td>1.000000</td>\n",
       "      <td>-0.454847</td>\n",
       "      <td>-0.489475</td>\n",
       "    </tr>\n",
       "    <tr>\n",
       "      <td>income_comp</td>\n",
       "      <td>0.527794</td>\n",
       "      <td>0.765561</td>\n",
       "      <td>-0.451394</td>\n",
       "      <td>-0.154878</td>\n",
       "      <td>0.542885</td>\n",
       "      <td>0.409931</td>\n",
       "      <td>-0.142676</td>\n",
       "      <td>0.553484</td>\n",
       "      <td>-0.174482</td>\n",
       "      <td>0.399251</td>\n",
       "      <td>0.231590</td>\n",
       "      <td>0.433213</td>\n",
       "      <td>-0.265358</td>\n",
       "      <td>0.476269</td>\n",
       "      <td>-0.012356</td>\n",
       "      <td>-0.454847</td>\n",
       "      <td>1.000000</td>\n",
       "      <td>0.824450</td>\n",
       "    </tr>\n",
       "    <tr>\n",
       "      <td>schooling</td>\n",
       "      <td>0.563150</td>\n",
       "      <td>0.781350</td>\n",
       "      <td>-0.444721</td>\n",
       "      <td>-0.210071</td>\n",
       "      <td>0.592556</td>\n",
       "      <td>0.422822</td>\n",
       "      <td>-0.152535</td>\n",
       "      <td>0.598014</td>\n",
       "      <td>-0.226671</td>\n",
       "      <td>0.430800</td>\n",
       "      <td>0.295150</td>\n",
       "      <td>0.448809</td>\n",
       "      <td>-0.234328</td>\n",
       "      <td>0.492112</td>\n",
       "      <td>-0.038083</td>\n",
       "      <td>-0.489475</td>\n",
       "      <td>0.824450</td>\n",
       "      <td>1.000000</td>\n",
       "    </tr>\n",
       "  </tbody>\n",
       "</table>\n",
       "</div>"
      ],
      "text/plain": [
       "                      status     lifex  adult_mortality  infant_deaths  \\\n",
       "status              1.000000  0.507923        -0.324878      -0.119804   \n",
       "lifex               0.507923  1.000000        -0.674593      -0.173029   \n",
       "adult_mortality    -0.324878 -0.674593         1.000000       0.052829   \n",
       "infant_deaths      -0.119804 -0.173029         0.052829       1.000000   \n",
       "alcohol             0.604666  0.414262        -0.208354      -0.113588   \n",
       "perc_expend         0.498519  0.409859        -0.252934      -0.089320   \n",
       "measles            -0.081837 -0.138045         0.000127       0.519139   \n",
       "bmi                 0.351459  0.588304        -0.375719      -0.228670   \n",
       "under_five_deaths  -0.122500 -0.198734         0.067417       0.996613   \n",
       "polio               0.252266  0.437254        -0.229302      -0.158233   \n",
       "tot_expend          0.256758  0.223362        -0.119770      -0.147105   \n",
       "diphtheria          0.247582  0.457653        -0.227061      -0.161257   \n",
       "hiv_aids           -0.164749 -0.568724         0.536572       0.008670   \n",
       "gdp                 0.535281  0.464602        -0.283346      -0.103422   \n",
       "pop                -0.046552 -0.022897        -0.012899       0.556835   \n",
       "thinness_5_9_years -0.361785 -0.477466         0.306928       0.492187   \n",
       "income_comp         0.527794  0.765561        -0.451394      -0.154878   \n",
       "schooling           0.563150  0.781350        -0.444721      -0.210071   \n",
       "\n",
       "                     alcohol  perc_expend   measles       bmi  \\\n",
       "status              0.604666     0.498519 -0.081837  0.351459   \n",
       "lifex               0.414262     0.409859 -0.138045  0.588304   \n",
       "adult_mortality    -0.208354    -0.252934  0.000127 -0.375719   \n",
       "infant_deaths      -0.113588    -0.089320  0.519139 -0.228670   \n",
       "alcohol             1.000000     0.415648 -0.036830  0.380188   \n",
       "perc_expend         0.415648     1.000000 -0.060543  0.258716   \n",
       "measles            -0.036830    -0.060543  1.000000 -0.171510   \n",
       "bmi                 0.380188     0.258716 -0.171510  1.000000   \n",
       "under_five_deaths  -0.109557    -0.091745  0.526444 -0.238801   \n",
       "polio               0.248644     0.162318 -0.113652  0.271956   \n",
       "tot_expend          0.263109     0.241932 -0.108126  0.229849   \n",
       "diphtheria          0.254487     0.162856 -0.117241  0.272201   \n",
       "hiv_aids           -0.051818    -0.110176  0.022623 -0.242197   \n",
       "gdp                 0.445057     0.937479 -0.070837  0.306962   \n",
       "pop                -0.034968    -0.026205  0.265894 -0.071956   \n",
       "thinness_5_9_years -0.402675    -0.274088  0.231832 -0.563279   \n",
       "income_comp         0.542885     0.409931 -0.142676  0.553484   \n",
       "schooling           0.592556     0.422822 -0.152535  0.598014   \n",
       "\n",
       "                    under_five_deaths     polio  tot_expend  diphtheria  \\\n",
       "status                      -0.122500  0.252266    0.256758    0.247582   \n",
       "lifex                       -0.198734  0.437254    0.223362    0.457653   \n",
       "adult_mortality              0.067417 -0.229302   -0.119770   -0.227061   \n",
       "infant_deaths                0.996613 -0.158233   -0.147105   -0.161257   \n",
       "alcohol                     -0.109557  0.248644    0.263109    0.254487   \n",
       "perc_expend                 -0.091745  0.162318    0.241932    0.162856   \n",
       "measles                      0.526444 -0.113652   -0.108126   -0.117241   \n",
       "bmi                         -0.238801  0.271956    0.229849    0.272201   \n",
       "under_five_deaths            1.000000 -0.175984   -0.147833   -0.181951   \n",
       "polio                       -0.175984  1.000000    0.170590    0.671120   \n",
       "tot_expend                  -0.147833  0.170590    1.000000    0.182833   \n",
       "diphtheria                  -0.181951  0.671120    0.182833    1.000000   \n",
       "hiv_aids                     0.020571 -0.145686    0.010009   -0.155446   \n",
       "gdp                         -0.106888  0.197687    0.234349    0.195298   \n",
       "pop                          0.544494 -0.039206   -0.080109   -0.028881   \n",
       "thinness_5_9_years           0.492687 -0.223990   -0.259147   -0.231971   \n",
       "income_comp                 -0.174482  0.399251    0.231590    0.433213   \n",
       "schooling                   -0.226671  0.430800    0.295150    0.448809   \n",
       "\n",
       "                    hiv_aids       gdp       pop  thinness_5_9_years  \\\n",
       "status             -0.164749  0.535281 -0.046552           -0.361785   \n",
       "lifex              -0.568724  0.464602 -0.022897           -0.477466   \n",
       "adult_mortality     0.536572 -0.283346 -0.012899            0.306928   \n",
       "infant_deaths       0.008670 -0.103422  0.556835            0.492187   \n",
       "alcohol            -0.051818  0.445057 -0.034968           -0.402675   \n",
       "perc_expend        -0.110176  0.937479 -0.026205           -0.274088   \n",
       "measles             0.022623 -0.070837  0.265894            0.231832   \n",
       "bmi                -0.242197  0.306962 -0.071956           -0.563279   \n",
       "under_five_deaths   0.020571 -0.106888  0.544494            0.492687   \n",
       "polio              -0.145686  0.197687 -0.039206           -0.223990   \n",
       "tot_expend          0.010009  0.234349 -0.080109           -0.259147   \n",
       "diphtheria         -0.155446  0.195298 -0.028881           -0.231971   \n",
       "hiv_aids            1.000000 -0.130335 -0.027718            0.206204   \n",
       "gdp                -0.130335  1.000000 -0.028542           -0.309872   \n",
       "pop                -0.027718 -0.028542  1.000000            0.251695   \n",
       "thinness_5_9_years  0.206204 -0.309872  0.251695            1.000000   \n",
       "income_comp        -0.265358  0.476269 -0.012356           -0.454847   \n",
       "schooling          -0.234328  0.492112 -0.038083           -0.489475   \n",
       "\n",
       "                    income_comp  schooling  \n",
       "status                 0.527794   0.563150  \n",
       "lifex                  0.765561   0.781350  \n",
       "adult_mortality       -0.451394  -0.444721  \n",
       "infant_deaths         -0.154878  -0.210071  \n",
       "alcohol                0.542885   0.592556  \n",
       "perc_expend            0.409931   0.422822  \n",
       "measles               -0.142676  -0.152535  \n",
       "bmi                    0.553484   0.598014  \n",
       "under_five_deaths     -0.174482  -0.226671  \n",
       "polio                  0.399251   0.430800  \n",
       "tot_expend             0.231590   0.295150  \n",
       "diphtheria             0.433213   0.448809  \n",
       "hiv_aids              -0.265358  -0.234328  \n",
       "gdp                    0.476269   0.492112  \n",
       "pop                   -0.012356  -0.038083  \n",
       "thinness_5_9_years    -0.454847  -0.489475  \n",
       "income_comp            1.000000   0.824450  \n",
       "schooling              0.824450   1.000000  "
      ]
     },
     "execution_count": 215,
     "metadata": {},
     "output_type": "execute_result"
    }
   ],
   "source": [
    "corr"
   ]
  },
  {
   "cell_type": "code",
   "execution_count": 62,
   "metadata": {},
   "outputs": [],
   "source": [
    "# plt.figure(figsize=(15,9))\n",
    "# for i in df2.columns:\n",
    "#     sns.regplot(df2[i], df2.lifex, data=df2)\n",
    "#     plt.show()"
   ]
  },
  {
   "cell_type": "code",
   "execution_count": 63,
   "metadata": {},
   "outputs": [
    {
     "data": {
      "text/html": [
       "<div>\n",
       "<style scoped>\n",
       "    .dataframe tbody tr th:only-of-type {\n",
       "        vertical-align: middle;\n",
       "    }\n",
       "\n",
       "    .dataframe tbody tr th {\n",
       "        vertical-align: top;\n",
       "    }\n",
       "\n",
       "    .dataframe thead th {\n",
       "        text-align: right;\n",
       "    }\n",
       "</style>\n",
       "<table border=\"1\" class=\"dataframe\">\n",
       "  <thead>\n",
       "    <tr style=\"text-align: right;\">\n",
       "      <th></th>\n",
       "      <th>status</th>\n",
       "      <th>lifex</th>\n",
       "      <th>adult_mortality</th>\n",
       "      <th>infant_deaths</th>\n",
       "      <th>alcohol</th>\n",
       "      <th>perc_expend</th>\n",
       "      <th>measles</th>\n",
       "      <th>bmi</th>\n",
       "      <th>under_five_deaths</th>\n",
       "      <th>polio</th>\n",
       "      <th>tot_expend</th>\n",
       "      <th>diphtheria</th>\n",
       "      <th>hiv_aids</th>\n",
       "      <th>gdp</th>\n",
       "      <th>pop</th>\n",
       "      <th>thinness__1_19_years</th>\n",
       "      <th>income_comp</th>\n",
       "      <th>schooling</th>\n",
       "    </tr>\n",
       "  </thead>\n",
       "  <tbody>\n",
       "    <tr>\n",
       "      <td>count</td>\n",
       "      <td>2244.000000</td>\n",
       "      <td>2244.000000</td>\n",
       "      <td>2244.000000</td>\n",
       "      <td>2244.000000</td>\n",
       "      <td>2244.000000</td>\n",
       "      <td>2244.000000</td>\n",
       "      <td>2244.000000</td>\n",
       "      <td>2244.000000</td>\n",
       "      <td>2244.000000</td>\n",
       "      <td>2244.000000</td>\n",
       "      <td>2244.000000</td>\n",
       "      <td>2244.000000</td>\n",
       "      <td>2244.000000</td>\n",
       "      <td>2244.000000</td>\n",
       "      <td>2.244000e+03</td>\n",
       "      <td>2244.000000</td>\n",
       "      <td>2244.000000</td>\n",
       "      <td>2244.000000</td>\n",
       "    </tr>\n",
       "    <tr>\n",
       "      <td>mean</td>\n",
       "      <td>0.185383</td>\n",
       "      <td>68.836141</td>\n",
       "      <td>168.397504</td>\n",
       "      <td>34.058824</td>\n",
       "      <td>4.668581</td>\n",
       "      <td>845.263277</td>\n",
       "      <td>2571.937166</td>\n",
       "      <td>37.433690</td>\n",
       "      <td>47.259358</td>\n",
       "      <td>81.329768</td>\n",
       "      <td>5.990368</td>\n",
       "      <td>81.415775</td>\n",
       "      <td>2.065775</td>\n",
       "      <td>6679.950057</td>\n",
       "      <td>1.283534e+07</td>\n",
       "      <td>4.881283</td>\n",
       "      <td>0.624677</td>\n",
       "      <td>12.004545</td>\n",
       "    </tr>\n",
       "    <tr>\n",
       "      <td>std</td>\n",
       "      <td>0.388695</td>\n",
       "      <td>9.806200</td>\n",
       "      <td>128.813225</td>\n",
       "      <td>132.890430</td>\n",
       "      <td>3.933708</td>\n",
       "      <td>2182.402759</td>\n",
       "      <td>11650.313712</td>\n",
       "      <td>19.870907</td>\n",
       "      <td>180.634100</td>\n",
       "      <td>23.883354</td>\n",
       "      <td>2.290649</td>\n",
       "      <td>23.933154</td>\n",
       "      <td>5.693349</td>\n",
       "      <td>13585.317954</td>\n",
       "      <td>6.155374e+07</td>\n",
       "      <td>4.668294</td>\n",
       "      <td>0.205817</td>\n",
       "      <td>3.265339</td>\n",
       "    </tr>\n",
       "    <tr>\n",
       "      <td>min</td>\n",
       "      <td>0.000000</td>\n",
       "      <td>36.300000</td>\n",
       "      <td>1.000000</td>\n",
       "      <td>0.000000</td>\n",
       "      <td>0.010000</td>\n",
       "      <td>0.000000</td>\n",
       "      <td>0.000000</td>\n",
       "      <td>1.400000</td>\n",
       "      <td>0.000000</td>\n",
       "      <td>3.000000</td>\n",
       "      <td>0.370000</td>\n",
       "      <td>2.000000</td>\n",
       "      <td>0.100000</td>\n",
       "      <td>1.681350</td>\n",
       "      <td>3.400000e+01</td>\n",
       "      <td>0.100000</td>\n",
       "      <td>0.000000</td>\n",
       "      <td>0.000000</td>\n",
       "    </tr>\n",
       "    <tr>\n",
       "      <td>25%</td>\n",
       "      <td>0.000000</td>\n",
       "      <td>62.500000</td>\n",
       "      <td>71.000000</td>\n",
       "      <td>0.000000</td>\n",
       "      <td>1.117500</td>\n",
       "      <td>21.253013</td>\n",
       "      <td>0.000000</td>\n",
       "      <td>18.700000</td>\n",
       "      <td>1.000000</td>\n",
       "      <td>75.750000</td>\n",
       "      <td>4.477500</td>\n",
       "      <td>77.000000</td>\n",
       "      <td>0.100000</td>\n",
       "      <td>437.516416</td>\n",
       "      <td>1.939068e+05</td>\n",
       "      <td>1.500000</td>\n",
       "      <td>0.487000</td>\n",
       "      <td>10.000000</td>\n",
       "    </tr>\n",
       "    <tr>\n",
       "      <td>50%</td>\n",
       "      <td>0.000000</td>\n",
       "      <td>71.500000</td>\n",
       "      <td>145.000000</td>\n",
       "      <td>3.000000</td>\n",
       "      <td>3.755000</td>\n",
       "      <td>97.600031</td>\n",
       "      <td>17.000000</td>\n",
       "      <td>42.000000</td>\n",
       "      <td>4.000000</td>\n",
       "      <td>92.000000</td>\n",
       "      <td>5.755000</td>\n",
       "      <td>92.000000</td>\n",
       "      <td>0.100000</td>\n",
       "      <td>1569.021293</td>\n",
       "      <td>1.383743e+06</td>\n",
       "      <td>2.950000</td>\n",
       "      <td>0.668000</td>\n",
       "      <td>12.200000</td>\n",
       "    </tr>\n",
       "    <tr>\n",
       "      <td>75%</td>\n",
       "      <td>0.000000</td>\n",
       "      <td>75.500000</td>\n",
       "      <td>232.000000</td>\n",
       "      <td>22.000000</td>\n",
       "      <td>7.342500</td>\n",
       "      <td>505.149696</td>\n",
       "      <td>426.500000</td>\n",
       "      <td>55.800000</td>\n",
       "      <td>29.000000</td>\n",
       "      <td>97.000000</td>\n",
       "      <td>7.482500</td>\n",
       "      <td>96.000000</td>\n",
       "      <td>1.100000</td>\n",
       "      <td>5224.262100</td>\n",
       "      <td>7.399592e+06</td>\n",
       "      <td>7.300000</td>\n",
       "      <td>0.770000</td>\n",
       "      <td>14.400000</td>\n",
       "    </tr>\n",
       "    <tr>\n",
       "      <td>max</td>\n",
       "      <td>1.000000</td>\n",
       "      <td>89.000000</td>\n",
       "      <td>723.000000</td>\n",
       "      <td>1800.000000</td>\n",
       "      <td>17.870000</td>\n",
       "      <td>19479.911610</td>\n",
       "      <td>212183.000000</td>\n",
       "      <td>77.600000</td>\n",
       "      <td>2500.000000</td>\n",
       "      <td>99.000000</td>\n",
       "      <td>14.390000</td>\n",
       "      <td>99.000000</td>\n",
       "      <td>50.600000</td>\n",
       "      <td>119172.741800</td>\n",
       "      <td>1.293859e+09</td>\n",
       "      <td>27.700000</td>\n",
       "      <td>0.948000</td>\n",
       "      <td>20.700000</td>\n",
       "    </tr>\n",
       "  </tbody>\n",
       "</table>\n",
       "</div>"
      ],
      "text/plain": [
       "            status        lifex  adult_mortality  infant_deaths      alcohol  \\\n",
       "count  2244.000000  2244.000000      2244.000000    2244.000000  2244.000000   \n",
       "mean      0.185383    68.836141       168.397504      34.058824     4.668581   \n",
       "std       0.388695     9.806200       128.813225     132.890430     3.933708   \n",
       "min       0.000000    36.300000         1.000000       0.000000     0.010000   \n",
       "25%       0.000000    62.500000        71.000000       0.000000     1.117500   \n",
       "50%       0.000000    71.500000       145.000000       3.000000     3.755000   \n",
       "75%       0.000000    75.500000       232.000000      22.000000     7.342500   \n",
       "max       1.000000    89.000000       723.000000    1800.000000    17.870000   \n",
       "\n",
       "        perc_expend        measles          bmi  under_five_deaths  \\\n",
       "count   2244.000000    2244.000000  2244.000000        2244.000000   \n",
       "mean     845.263277    2571.937166    37.433690          47.259358   \n",
       "std     2182.402759   11650.313712    19.870907         180.634100   \n",
       "min        0.000000       0.000000     1.400000           0.000000   \n",
       "25%       21.253013       0.000000    18.700000           1.000000   \n",
       "50%       97.600031      17.000000    42.000000           4.000000   \n",
       "75%      505.149696     426.500000    55.800000          29.000000   \n",
       "max    19479.911610  212183.000000    77.600000        2500.000000   \n",
       "\n",
       "             polio   tot_expend   diphtheria     hiv_aids            gdp  \\\n",
       "count  2244.000000  2244.000000  2244.000000  2244.000000    2244.000000   \n",
       "mean     81.329768     5.990368    81.415775     2.065775    6679.950057   \n",
       "std      23.883354     2.290649    23.933154     5.693349   13585.317954   \n",
       "min       3.000000     0.370000     2.000000     0.100000       1.681350   \n",
       "25%      75.750000     4.477500    77.000000     0.100000     437.516416   \n",
       "50%      92.000000     5.755000    92.000000     0.100000    1569.021293   \n",
       "75%      97.000000     7.482500    96.000000     1.100000    5224.262100   \n",
       "max      99.000000    14.390000    99.000000    50.600000  119172.741800   \n",
       "\n",
       "                pop  thinness__1_19_years  income_comp    schooling  \n",
       "count  2.244000e+03           2244.000000  2244.000000  2244.000000  \n",
       "mean   1.283534e+07              4.881283     0.624677    12.004545  \n",
       "std    6.155374e+07              4.668294     0.205817     3.265339  \n",
       "min    3.400000e+01              0.100000     0.000000     0.000000  \n",
       "25%    1.939068e+05              1.500000     0.487000    10.000000  \n",
       "50%    1.383743e+06              2.950000     0.668000    12.200000  \n",
       "75%    7.399592e+06              7.300000     0.770000    14.400000  \n",
       "max    1.293859e+09             27.700000     0.948000    20.700000  "
      ]
     },
     "execution_count": 63,
     "metadata": {},
     "output_type": "execute_result"
    }
   ],
   "source": [
    "df2.describe()"
   ]
  },
  {
   "cell_type": "markdown",
   "metadata": {},
   "source": [
    "# Model Selection"
   ]
  },
  {
   "cell_type": "markdown",
   "metadata": {},
   "source": [
    "## OLS Linear Method"
   ]
  },
  {
   "cell_type": "code",
   "execution_count": 64,
   "metadata": {},
   "outputs": [],
   "source": [
    "# model = ols(formula = 'le~GDP+bmi', data=df2).fit()"
   ]
  },
  {
   "cell_type": "code",
   "execution_count": 65,
   "metadata": {},
   "outputs": [],
   "source": [
    "# model.summary()"
   ]
  },
  {
   "cell_type": "code",
   "execution_count": 66,
   "metadata": {},
   "outputs": [],
   "source": [
    "# df2['le'].describe()"
   ]
  },
  {
   "cell_type": "markdown",
   "metadata": {},
   "source": [
    "## sklearn method"
   ]
  },
  {
   "cell_type": "code",
   "execution_count": 67,
   "metadata": {},
   "outputs": [
    {
     "data": {
      "text/plain": [
       "Index(['status', 'lifex', 'adult_mortality', 'infant_deaths', 'alcohol',\n",
       "       'perc_expend', 'measles', 'bmi', 'under_five_deaths', 'polio',\n",
       "       'tot_expend', 'diphtheria', 'hiv_aids', 'gdp', 'pop',\n",
       "       'thinness__1_19_years', 'income_comp', 'schooling'],\n",
       "      dtype='object')"
      ]
     },
     "execution_count": 67,
     "metadata": {},
     "output_type": "execute_result"
    }
   ],
   "source": [
    "df2.columns"
   ]
  },
  {
   "cell_type": "markdown",
   "metadata": {},
   "source": [
    "# Model Tuning"
   ]
  },
  {
   "cell_type": "markdown",
   "metadata": {},
   "source": [
    "## Recursive Feature Elimination"
   ]
  },
  {
   "cell_type": "code",
   "execution_count": 68,
   "metadata": {},
   "outputs": [
    {
     "data": {
      "text/html": [
       "<div>\n",
       "<style scoped>\n",
       "    .dataframe tbody tr th:only-of-type {\n",
       "        vertical-align: middle;\n",
       "    }\n",
       "\n",
       "    .dataframe tbody tr th {\n",
       "        vertical-align: top;\n",
       "    }\n",
       "\n",
       "    .dataframe thead th {\n",
       "        text-align: right;\n",
       "    }\n",
       "</style>\n",
       "<table border=\"1\" class=\"dataframe\">\n",
       "  <thead>\n",
       "    <tr style=\"text-align: right;\">\n",
       "      <th></th>\n",
       "      <th>status</th>\n",
       "      <th>lifex</th>\n",
       "      <th>adult_mortality</th>\n",
       "      <th>infant_deaths</th>\n",
       "      <th>alcohol</th>\n",
       "      <th>perc_expend</th>\n",
       "      <th>measles</th>\n",
       "      <th>bmi</th>\n",
       "      <th>under_five_deaths</th>\n",
       "      <th>polio</th>\n",
       "      <th>tot_expend</th>\n",
       "      <th>diphtheria</th>\n",
       "      <th>hiv_aids</th>\n",
       "      <th>gdp</th>\n",
       "      <th>pop</th>\n",
       "      <th>thinness__1_19_years</th>\n",
       "      <th>income_comp</th>\n",
       "      <th>schooling</th>\n",
       "    </tr>\n",
       "  </thead>\n",
       "  <tbody>\n",
       "    <tr>\n",
       "      <td>0</td>\n",
       "      <td>0</td>\n",
       "      <td>65.0</td>\n",
       "      <td>263.0</td>\n",
       "      <td>62</td>\n",
       "      <td>0.01</td>\n",
       "      <td>71.279624</td>\n",
       "      <td>1154</td>\n",
       "      <td>19.1</td>\n",
       "      <td>83</td>\n",
       "      <td>6.0</td>\n",
       "      <td>8.16</td>\n",
       "      <td>65.0</td>\n",
       "      <td>0.1</td>\n",
       "      <td>584.259210</td>\n",
       "      <td>33736494.0</td>\n",
       "      <td>17.2</td>\n",
       "      <td>0.479</td>\n",
       "      <td>10.1</td>\n",
       "    </tr>\n",
       "    <tr>\n",
       "      <td>1</td>\n",
       "      <td>0</td>\n",
       "      <td>59.9</td>\n",
       "      <td>271.0</td>\n",
       "      <td>64</td>\n",
       "      <td>0.01</td>\n",
       "      <td>73.523582</td>\n",
       "      <td>492</td>\n",
       "      <td>18.6</td>\n",
       "      <td>86</td>\n",
       "      <td>58.0</td>\n",
       "      <td>8.18</td>\n",
       "      <td>62.0</td>\n",
       "      <td>0.1</td>\n",
       "      <td>612.696514</td>\n",
       "      <td>327582.0</td>\n",
       "      <td>17.5</td>\n",
       "      <td>0.476</td>\n",
       "      <td>10.0</td>\n",
       "    </tr>\n",
       "  </tbody>\n",
       "</table>\n",
       "</div>"
      ],
      "text/plain": [
       "   status  lifex  adult_mortality  infant_deaths  alcohol  perc_expend  \\\n",
       "0       0   65.0            263.0             62     0.01    71.279624   \n",
       "1       0   59.9            271.0             64     0.01    73.523582   \n",
       "\n",
       "   measles   bmi  under_five_deaths  polio  tot_expend  diphtheria  hiv_aids  \\\n",
       "0     1154  19.1                 83    6.0        8.16        65.0       0.1   \n",
       "1      492  18.6                 86   58.0        8.18        62.0       0.1   \n",
       "\n",
       "          gdp         pop  thinness__1_19_years  income_comp  schooling  \n",
       "0  584.259210  33736494.0                  17.2        0.479       10.1  \n",
       "1  612.696514    327582.0                  17.5        0.476       10.0  "
      ]
     },
     "execution_count": 68,
     "metadata": {},
     "output_type": "execute_result"
    }
   ],
   "source": [
    "df2.head(2)"
   ]
  },
  {
   "cell_type": "code",
   "execution_count": 69,
   "metadata": {},
   "outputs": [],
   "source": [
    "features = df2.drop(columns=['lifex'])"
   ]
  },
  {
   "cell_type": "code",
   "execution_count": 70,
   "metadata": {},
   "outputs": [],
   "source": [
    "target = df2.lifex"
   ]
  },
  {
   "cell_type": "code",
   "execution_count": 71,
   "metadata": {},
   "outputs": [
    {
     "data": {
      "text/html": [
       "<div>\n",
       "<style scoped>\n",
       "    .dataframe tbody tr th:only-of-type {\n",
       "        vertical-align: middle;\n",
       "    }\n",
       "\n",
       "    .dataframe tbody tr th {\n",
       "        vertical-align: top;\n",
       "    }\n",
       "\n",
       "    .dataframe thead th {\n",
       "        text-align: right;\n",
       "    }\n",
       "</style>\n",
       "<table border=\"1\" class=\"dataframe\">\n",
       "  <thead>\n",
       "    <tr style=\"text-align: right;\">\n",
       "      <th></th>\n",
       "      <th>status</th>\n",
       "      <th>adult_mortality</th>\n",
       "      <th>infant_deaths</th>\n",
       "      <th>alcohol</th>\n",
       "      <th>perc_expend</th>\n",
       "      <th>measles</th>\n",
       "      <th>bmi</th>\n",
       "      <th>under_five_deaths</th>\n",
       "      <th>polio</th>\n",
       "      <th>tot_expend</th>\n",
       "      <th>diphtheria</th>\n",
       "      <th>hiv_aids</th>\n",
       "      <th>gdp</th>\n",
       "      <th>pop</th>\n",
       "      <th>thinness__1_19_years</th>\n",
       "      <th>income_comp</th>\n",
       "      <th>schooling</th>\n",
       "    </tr>\n",
       "  </thead>\n",
       "  <tbody>\n",
       "    <tr>\n",
       "      <td>0</td>\n",
       "      <td>0</td>\n",
       "      <td>263.0</td>\n",
       "      <td>62</td>\n",
       "      <td>0.01</td>\n",
       "      <td>71.279624</td>\n",
       "      <td>1154</td>\n",
       "      <td>19.1</td>\n",
       "      <td>83</td>\n",
       "      <td>6.0</td>\n",
       "      <td>8.16</td>\n",
       "      <td>65.0</td>\n",
       "      <td>0.1</td>\n",
       "      <td>584.259210</td>\n",
       "      <td>33736494.0</td>\n",
       "      <td>17.2</td>\n",
       "      <td>0.479</td>\n",
       "      <td>10.1</td>\n",
       "    </tr>\n",
       "    <tr>\n",
       "      <td>1</td>\n",
       "      <td>0</td>\n",
       "      <td>271.0</td>\n",
       "      <td>64</td>\n",
       "      <td>0.01</td>\n",
       "      <td>73.523582</td>\n",
       "      <td>492</td>\n",
       "      <td>18.6</td>\n",
       "      <td>86</td>\n",
       "      <td>58.0</td>\n",
       "      <td>8.18</td>\n",
       "      <td>62.0</td>\n",
       "      <td>0.1</td>\n",
       "      <td>612.696514</td>\n",
       "      <td>327582.0</td>\n",
       "      <td>17.5</td>\n",
       "      <td>0.476</td>\n",
       "      <td>10.0</td>\n",
       "    </tr>\n",
       "    <tr>\n",
       "      <td>2</td>\n",
       "      <td>0</td>\n",
       "      <td>268.0</td>\n",
       "      <td>66</td>\n",
       "      <td>0.01</td>\n",
       "      <td>73.219243</td>\n",
       "      <td>430</td>\n",
       "      <td>18.1</td>\n",
       "      <td>89</td>\n",
       "      <td>62.0</td>\n",
       "      <td>8.13</td>\n",
       "      <td>64.0</td>\n",
       "      <td>0.1</td>\n",
       "      <td>631.744976</td>\n",
       "      <td>31731688.0</td>\n",
       "      <td>17.7</td>\n",
       "      <td>0.470</td>\n",
       "      <td>9.9</td>\n",
       "    </tr>\n",
       "    <tr>\n",
       "      <td>3</td>\n",
       "      <td>0</td>\n",
       "      <td>272.0</td>\n",
       "      <td>69</td>\n",
       "      <td>0.01</td>\n",
       "      <td>78.184215</td>\n",
       "      <td>2787</td>\n",
       "      <td>17.6</td>\n",
       "      <td>93</td>\n",
       "      <td>67.0</td>\n",
       "      <td>8.52</td>\n",
       "      <td>67.0</td>\n",
       "      <td>0.1</td>\n",
       "      <td>669.959000</td>\n",
       "      <td>3696958.0</td>\n",
       "      <td>17.9</td>\n",
       "      <td>0.463</td>\n",
       "      <td>9.8</td>\n",
       "    </tr>\n",
       "    <tr>\n",
       "      <td>4</td>\n",
       "      <td>0</td>\n",
       "      <td>275.0</td>\n",
       "      <td>71</td>\n",
       "      <td>0.01</td>\n",
       "      <td>7.097109</td>\n",
       "      <td>3013</td>\n",
       "      <td>17.2</td>\n",
       "      <td>97</td>\n",
       "      <td>68.0</td>\n",
       "      <td>7.87</td>\n",
       "      <td>68.0</td>\n",
       "      <td>0.1</td>\n",
       "      <td>63.537231</td>\n",
       "      <td>2978599.0</td>\n",
       "      <td>18.2</td>\n",
       "      <td>0.454</td>\n",
       "      <td>9.5</td>\n",
       "    </tr>\n",
       "  </tbody>\n",
       "</table>\n",
       "</div>"
      ],
      "text/plain": [
       "   status  adult_mortality  infant_deaths  alcohol  perc_expend  measles  \\\n",
       "0       0            263.0             62     0.01    71.279624     1154   \n",
       "1       0            271.0             64     0.01    73.523582      492   \n",
       "2       0            268.0             66     0.01    73.219243      430   \n",
       "3       0            272.0             69     0.01    78.184215     2787   \n",
       "4       0            275.0             71     0.01     7.097109     3013   \n",
       "\n",
       "    bmi  under_five_deaths  polio  tot_expend  diphtheria  hiv_aids  \\\n",
       "0  19.1                 83    6.0        8.16        65.0       0.1   \n",
       "1  18.6                 86   58.0        8.18        62.0       0.1   \n",
       "2  18.1                 89   62.0        8.13        64.0       0.1   \n",
       "3  17.6                 93   67.0        8.52        67.0       0.1   \n",
       "4  17.2                 97   68.0        7.87        68.0       0.1   \n",
       "\n",
       "          gdp         pop  thinness__1_19_years  income_comp  schooling  \n",
       "0  584.259210  33736494.0                  17.2        0.479       10.1  \n",
       "1  612.696514    327582.0                  17.5        0.476       10.0  \n",
       "2  631.744976  31731688.0                  17.7        0.470        9.9  \n",
       "3  669.959000   3696958.0                  17.9        0.463        9.8  \n",
       "4   63.537231   2978599.0                  18.2        0.454        9.5  "
      ]
     },
     "execution_count": 71,
     "metadata": {},
     "output_type": "execute_result"
    }
   ],
   "source": [
    "features.head()"
   ]
  },
  {
   "cell_type": "markdown",
   "metadata": {},
   "source": [
    "### Model with 5 predictors"
   ]
  },
  {
   "cell_type": "code",
   "execution_count": 72,
   "metadata": {},
   "outputs": [],
   "source": [
    "features = df2.drop(columns=['lifex'])"
   ]
  },
  {
   "cell_type": "code",
   "execution_count": 73,
   "metadata": {},
   "outputs": [],
   "source": [
    "target = df2.lifex"
   ]
  },
  {
   "cell_type": "code",
   "execution_count": 74,
   "metadata": {},
   "outputs": [],
   "source": [
    "linreg = LinearRegression()\n",
    "selector = RFE(linreg, n_features_to_select=5)\n",
    "selector = selector.fit(features, target)"
   ]
  },
  {
   "cell_type": "code",
   "execution_count": 75,
   "metadata": {
    "scrolled": false
   },
   "outputs": [
    {
     "data": {
      "text/plain": [
       "array([ 1,  9,  4,  1, 10, 12,  6,  5,  7,  3,  8,  1, 11, 13,  2,  1,  1])"
      ]
     },
     "execution_count": 75,
     "metadata": {},
     "output_type": "execute_result"
    }
   ],
   "source": [
    "selector.ranking_"
   ]
  },
  {
   "cell_type": "code",
   "execution_count": 76,
   "metadata": {},
   "outputs": [],
   "source": [
    "i = selector.ranking_\n",
    "zipped_rankings = list(zip(i, features))\n",
    "best_predictors5 = []\n",
    "for i in zipped_rankings:\n",
    "    if i[0] == 1:\n",
    "        best_predictors5.append(i[1])"
   ]
  },
  {
   "cell_type": "code",
   "execution_count": 77,
   "metadata": {},
   "outputs": [
    {
     "data": {
      "text/plain": [
       "['status', 'alcohol', 'hiv_aids', 'income_comp', 'schooling']"
      ]
     },
     "execution_count": 77,
     "metadata": {},
     "output_type": "execute_result"
    }
   ],
   "source": [
    "best_predictors5"
   ]
  },
  {
   "cell_type": "code",
   "execution_count": 78,
   "metadata": {},
   "outputs": [],
   "source": [
    "formula = '+'.join(best_predictors5)"
   ]
  },
  {
   "cell_type": "code",
   "execution_count": 79,
   "metadata": {},
   "outputs": [
    {
     "data": {
      "text/plain": [
       "'status+alcohol+hiv_aids+income_comp+schooling'"
      ]
     },
     "execution_count": 79,
     "metadata": {},
     "output_type": "execute_result"
    }
   ],
   "source": [
    "formula"
   ]
  },
  {
   "cell_type": "code",
   "execution_count": 80,
   "metadata": {},
   "outputs": [],
   "source": [
    "model = ols(formula = f'lifex~{formula}', data=df2).fit()"
   ]
  },
  {
   "cell_type": "code",
   "execution_count": 81,
   "metadata": {
    "scrolled": true
   },
   "outputs": [
    {
     "data": {
      "text/html": [
       "<table class=\"simpletable\">\n",
       "<caption>OLS Regression Results</caption>\n",
       "<tr>\n",
       "  <th>Dep. Variable:</th>          <td>lifex</td>      <th>  R-squared:         </th> <td>   0.801</td> \n",
       "</tr>\n",
       "<tr>\n",
       "  <th>Model:</th>                   <td>OLS</td>       <th>  Adj. R-squared:    </th> <td>   0.800</td> \n",
       "</tr>\n",
       "<tr>\n",
       "  <th>Method:</th>             <td>Least Squares</td>  <th>  F-statistic:       </th> <td>   1798.</td> \n",
       "</tr>\n",
       "<tr>\n",
       "  <th>Date:</th>             <td>Wed, 26 Feb 2020</td> <th>  Prob (F-statistic):</th>  <td>  0.00</td>  \n",
       "</tr>\n",
       "<tr>\n",
       "  <th>Time:</th>                 <td>14:13:44</td>     <th>  Log-Likelihood:    </th> <td> -6497.3</td> \n",
       "</tr>\n",
       "<tr>\n",
       "  <th>No. Observations:</th>      <td>  2244</td>      <th>  AIC:               </th> <td>1.301e+04</td>\n",
       "</tr>\n",
       "<tr>\n",
       "  <th>Df Residuals:</th>          <td>  2238</td>      <th>  BIC:               </th> <td>1.304e+04</td>\n",
       "</tr>\n",
       "<tr>\n",
       "  <th>Df Model:</th>              <td>     5</td>      <th>                     </th>     <td> </td>    \n",
       "</tr>\n",
       "<tr>\n",
       "  <th>Covariance Type:</th>      <td>nonrobust</td>    <th>                     </th>     <td> </td>    \n",
       "</tr>\n",
       "</table>\n",
       "<table class=\"simpletable\">\n",
       "<tr>\n",
       "       <td></td>          <th>coef</th>     <th>std err</th>      <th>t</th>      <th>P>|t|</th>  <th>[0.025</th>    <th>0.975]</th>  \n",
       "</tr>\n",
       "<tr>\n",
       "  <th>Intercept</th>   <td>   45.7001</td> <td>    0.417</td> <td>  109.585</td> <td> 0.000</td> <td>   44.882</td> <td>   46.518</td>\n",
       "</tr>\n",
       "<tr>\n",
       "  <th>status</th>      <td>    2.2340</td> <td>    0.318</td> <td>    7.025</td> <td> 0.000</td> <td>    1.610</td> <td>    2.858</td>\n",
       "</tr>\n",
       "<tr>\n",
       "  <th>alcohol</th>     <td>   -0.2150</td> <td>    0.032</td> <td>   -6.630</td> <td> 0.000</td> <td>   -0.279</td> <td>   -0.151</td>\n",
       "</tr>\n",
       "<tr>\n",
       "  <th>hiv_aids</th>    <td>   -0.6455</td> <td>    0.017</td> <td>  -37.820</td> <td> 0.000</td> <td>   -0.679</td> <td>   -0.612</td>\n",
       "</tr>\n",
       "<tr>\n",
       "  <th>income_comp</th> <td>   13.8938</td> <td>    0.812</td> <td>   17.113</td> <td> 0.000</td> <td>   12.302</td> <td>   15.486</td>\n",
       "</tr>\n",
       "<tr>\n",
       "  <th>schooling</th>   <td>    1.3645</td> <td>    0.053</td> <td>   25.603</td> <td> 0.000</td> <td>    1.260</td> <td>    1.469</td>\n",
       "</tr>\n",
       "</table>\n",
       "<table class=\"simpletable\">\n",
       "<tr>\n",
       "  <th>Omnibus:</th>       <td>116.688</td> <th>  Durbin-Watson:     </th> <td>   0.401</td>\n",
       "</tr>\n",
       "<tr>\n",
       "  <th>Prob(Omnibus):</th> <td> 0.000</td>  <th>  Jarque-Bera (JB):  </th> <td> 436.260</td>\n",
       "</tr>\n",
       "<tr>\n",
       "  <th>Skew:</th>          <td>-0.009</td>  <th>  Prob(JB):          </th> <td>1.85e-95</td>\n",
       "</tr>\n",
       "<tr>\n",
       "  <th>Kurtosis:</th>      <td> 5.160</td>  <th>  Cond. No.          </th> <td>    121.</td>\n",
       "</tr>\n",
       "</table><br/><br/>Warnings:<br/>[1] Standard Errors assume that the covariance matrix of the errors is correctly specified."
      ],
      "text/plain": [
       "<class 'statsmodels.iolib.summary.Summary'>\n",
       "\"\"\"\n",
       "                            OLS Regression Results                            \n",
       "==============================================================================\n",
       "Dep. Variable:                  lifex   R-squared:                       0.801\n",
       "Model:                            OLS   Adj. R-squared:                  0.800\n",
       "Method:                 Least Squares   F-statistic:                     1798.\n",
       "Date:                Wed, 26 Feb 2020   Prob (F-statistic):               0.00\n",
       "Time:                        14:13:44   Log-Likelihood:                -6497.3\n",
       "No. Observations:                2244   AIC:                         1.301e+04\n",
       "Df Residuals:                    2238   BIC:                         1.304e+04\n",
       "Df Model:                           5                                         \n",
       "Covariance Type:            nonrobust                                         \n",
       "===============================================================================\n",
       "                  coef    std err          t      P>|t|      [0.025      0.975]\n",
       "-------------------------------------------------------------------------------\n",
       "Intercept      45.7001      0.417    109.585      0.000      44.882      46.518\n",
       "status          2.2340      0.318      7.025      0.000       1.610       2.858\n",
       "alcohol        -0.2150      0.032     -6.630      0.000      -0.279      -0.151\n",
       "hiv_aids       -0.6455      0.017    -37.820      0.000      -0.679      -0.612\n",
       "income_comp    13.8938      0.812     17.113      0.000      12.302      15.486\n",
       "schooling       1.3645      0.053     25.603      0.000       1.260       1.469\n",
       "==============================================================================\n",
       "Omnibus:                      116.688   Durbin-Watson:                   0.401\n",
       "Prob(Omnibus):                  0.000   Jarque-Bera (JB):              436.260\n",
       "Skew:                          -0.009   Prob(JB):                     1.85e-95\n",
       "Kurtosis:                       5.160   Cond. No.                         121.\n",
       "==============================================================================\n",
       "\n",
       "Warnings:\n",
       "[1] Standard Errors assume that the covariance matrix of the errors is correctly specified.\n",
       "\"\"\""
      ]
     },
     "execution_count": 81,
     "metadata": {},
     "output_type": "execute_result"
    }
   ],
   "source": [
    "model.summary()"
   ]
  },
  {
   "cell_type": "markdown",
   "metadata": {},
   "source": [
    "#### Train test on model with 5"
   ]
  },
  {
   "cell_type": "code",
   "execution_count": 82,
   "metadata": {},
   "outputs": [],
   "source": [
    "features_5 = df2[best_predictors5]"
   ]
  },
  {
   "cell_type": "code",
   "execution_count": 83,
   "metadata": {},
   "outputs": [],
   "source": [
    "X_train, X_test, y_train, y_test = train_test_split(features_5, target, random_state=0, test_size=0.2)"
   ]
  },
  {
   "cell_type": "code",
   "execution_count": 84,
   "metadata": {},
   "outputs": [
    {
     "data": {
      "text/plain": [
       "LinearRegression(copy_X=True, fit_intercept=True, n_jobs=None, normalize=False)"
      ]
     },
     "execution_count": 84,
     "metadata": {},
     "output_type": "execute_result"
    }
   ],
   "source": [
    "model = LinearRegression()\n",
    "model.fit(X_train, y_train)"
   ]
  },
  {
   "cell_type": "code",
   "execution_count": 85,
   "metadata": {},
   "outputs": [],
   "source": [
    "def run_model(model, X_train, X_test, y_train, y_test):\n",
    "    price_std = target.std()\n",
    "    print('Training R^2 :', model.score(X_train, y_train))\n",
    "    y_pred_train = model.predict(X_train)\n",
    "    train_rmse = np.sqrt(metrics.mean_squared_error(y_train, y_pred_train))\n",
    "    print('Training Root Mean Square Error', train_rmse)\n",
    "    print('Training Root Mean Square Error Standardized', train_rmse/price_std)\n",
    "    print('\\n----------------\\n')\n",
    "    print('Testing R^2 :', model.score(X_test, y_test))\n",
    "    y_pred_test = model.predict(X_test)\n",
    "    test_rmse = np.sqrt(metrics.mean_squared_error(y_test, y_pred_test))\n",
    "    print('Testing Root Mean Square Error', test_rmse)\n",
    "    print('Training Root Mean Square Error Standardized', test_rmse/price_std)"
   ]
  },
  {
   "cell_type": "code",
   "execution_count": 86,
   "metadata": {
    "scrolled": true
   },
   "outputs": [
    {
     "name": "stdout",
     "output_type": "stream",
     "text": [
      "Training R^2 : 0.8047522163135598\n",
      "Training Root Mean Square Error 4.362902386338893\n",
      "Training Root Mean Square Error Standardized 0.4449126628298919\n",
      "\n",
      "----------------\n",
      "\n",
      "Testing R^2 : 0.7806824900117386\n",
      "Testing Root Mean Square Error 4.449413029737736\n",
      "Training Root Mean Square Error Standardized 0.45373469855506077\n"
     ]
    }
   ],
   "source": [
    "run_model(model, X_train, X_test, y_train, y_test)"
   ]
  },
  {
   "cell_type": "code",
   "execution_count": 87,
   "metadata": {},
   "outputs": [],
   "source": [
    "y_pred_test = model.predict(X_test)"
   ]
  },
  {
   "cell_type": "code",
   "execution_count": 88,
   "metadata": {
    "scrolled": true
   },
   "outputs": [
    {
     "data": {
      "text/plain": [
       "<matplotlib.axes._subplots.AxesSubplot at 0x1c2177b2d0>"
      ]
     },
     "execution_count": 88,
     "metadata": {},
     "output_type": "execute_result"
    },
    {
     "data": {
      "image/png": "[encoded data removed]",
      "text/plain": [
       "<Figure size 432x288 with 1 Axes>"
      ]
     },
     "metadata": {
      "needs_background": "light"
     },
     "output_type": "display_data"
    }
   ],
   "source": [
    "sns.residplot(y_pred_test, y_test, lowess=True, color=\"g\")"
   ]
  },
  {
   "cell_type": "code",
   "execution_count": 89,
   "metadata": {},
   "outputs": [],
   "source": [
    "residual = y_test - y_pred_test"
   ]
  },
  {
   "cell_type": "code",
   "execution_count": 90,
   "metadata": {},
   "outputs": [
    {
     "data": {
      "image/png": "[encoded data removed]",
      "text/plain": [
       "<Figure size 432x180 with 1 Axes>"
      ]
     },
     "metadata": {
      "needs_background": "light"
     },
     "output_type": "display_data"
    }
   ],
   "source": [
    "fig, ax = plt.subplots(figsize=(6,2.5))\n",
    "sp.stats.probplot(residual, plot=ax, fit=True)\n",
    "plt.show()"
   ]
  },
  {
   "cell_type": "markdown",
   "metadata": {},
   "source": [
    "### Model with 10 features"
   ]
  },
  {
   "cell_type": "code",
   "execution_count": 91,
   "metadata": {},
   "outputs": [],
   "source": [
    "features = df2.drop(columns=['lifex'])"
   ]
  },
  {
   "cell_type": "code",
   "execution_count": 92,
   "metadata": {},
   "outputs": [],
   "source": [
    "target = df2.lifex"
   ]
  },
  {
   "cell_type": "code",
   "execution_count": 93,
   "metadata": {},
   "outputs": [],
   "source": [
    "linreg = LinearRegression()\n",
    "selector = RFE(linreg, n_features_to_select=10)\n",
    "selector = selector.fit(features, target)"
   ]
  },
  {
   "cell_type": "code",
   "execution_count": 94,
   "metadata": {},
   "outputs": [],
   "source": [
    "i = selector.ranking_\n",
    "zipped_rankings = list(zip(i, features))\n",
    "best_predictors10 = []\n",
    "for i in zipped_rankings:\n",
    "    if i[0] == 1:\n",
    "        best_predictors10.append(i[1])"
   ]
  },
  {
   "cell_type": "code",
   "execution_count": 95,
   "metadata": {},
   "outputs": [
    {
     "data": {
      "text/plain": [
       "array([1, 4, 1, 1, 5, 7, 1, 1, 2, 1, 3, 1, 6, 8, 1, 1, 1])"
      ]
     },
     "execution_count": 95,
     "metadata": {},
     "output_type": "execute_result"
    }
   ],
   "source": [
    "selector.ranking_"
   ]
  },
  {
   "cell_type": "code",
   "execution_count": 96,
   "metadata": {},
   "outputs": [
    {
     "data": {
      "text/plain": [
       "['status',\n",
       " 'infant_deaths',\n",
       " 'alcohol',\n",
       " 'bmi',\n",
       " 'under_five_deaths',\n",
       " 'tot_expend',\n",
       " 'hiv_aids',\n",
       " 'thinness__1_19_years',\n",
       " 'income_comp',\n",
       " 'schooling']"
      ]
     },
     "execution_count": 96,
     "metadata": {},
     "output_type": "execute_result"
    }
   ],
   "source": [
    "best_predictors10"
   ]
  },
  {
   "cell_type": "code",
   "execution_count": 97,
   "metadata": {},
   "outputs": [],
   "source": [
    "formula = '+'.join(best_predictors10)"
   ]
  },
  {
   "cell_type": "code",
   "execution_count": 98,
   "metadata": {},
   "outputs": [],
   "source": [
    "model = ols(formula = f'lifex~{formula}', data=df2).fit()"
   ]
  },
  {
   "cell_type": "code",
   "execution_count": 99,
   "metadata": {},
   "outputs": [
    {
     "data": {
      "text/html": [
       "<table class=\"simpletable\">\n",
       "<caption>OLS Regression Results</caption>\n",
       "<tr>\n",
       "  <th>Dep. Variable:</th>          <td>lifex</td>      <th>  R-squared:         </th> <td>   0.819</td> \n",
       "</tr>\n",
       "<tr>\n",
       "  <th>Model:</th>                   <td>OLS</td>       <th>  Adj. R-squared:    </th> <td>   0.818</td> \n",
       "</tr>\n",
       "<tr>\n",
       "  <th>Method:</th>             <td>Least Squares</td>  <th>  F-statistic:       </th> <td>   1009.</td> \n",
       "</tr>\n",
       "<tr>\n",
       "  <th>Date:</th>             <td>Wed, 26 Feb 2020</td> <th>  Prob (F-statistic):</th>  <td>  0.00</td>  \n",
       "</tr>\n",
       "<tr>\n",
       "  <th>Time:</th>                 <td>14:13:44</td>     <th>  Log-Likelihood:    </th> <td> -6390.5</td> \n",
       "</tr>\n",
       "<tr>\n",
       "  <th>No. Observations:</th>      <td>  2244</td>      <th>  AIC:               </th> <td>1.280e+04</td>\n",
       "</tr>\n",
       "<tr>\n",
       "  <th>Df Residuals:</th>          <td>  2233</td>      <th>  BIC:               </th> <td>1.287e+04</td>\n",
       "</tr>\n",
       "<tr>\n",
       "  <th>Df Model:</th>              <td>    10</td>      <th>                     </th>     <td> </td>    \n",
       "</tr>\n",
       "<tr>\n",
       "  <th>Covariance Type:</th>      <td>nonrobust</td>    <th>                     </th>     <td> </td>    \n",
       "</tr>\n",
       "</table>\n",
       "<table class=\"simpletable\">\n",
       "<tr>\n",
       "            <td></td>              <th>coef</th>     <th>std err</th>      <th>t</th>      <th>P>|t|</th>  <th>[0.025</th>    <th>0.975]</th>  \n",
       "</tr>\n",
       "<tr>\n",
       "  <th>Intercept</th>            <td>   47.6680</td> <td>    0.536</td> <td>   88.994</td> <td> 0.000</td> <td>   46.618</td> <td>   48.718</td>\n",
       "</tr>\n",
       "<tr>\n",
       "  <th>status</th>               <td>    2.3037</td> <td>    0.305</td> <td>    7.552</td> <td> 0.000</td> <td>    1.706</td> <td>    2.902</td>\n",
       "</tr>\n",
       "<tr>\n",
       "  <th>infant_deaths</th>        <td>    0.0948</td> <td>    0.009</td> <td>   11.011</td> <td> 0.000</td> <td>    0.078</td> <td>    0.112</td>\n",
       "</tr>\n",
       "<tr>\n",
       "  <th>alcohol</th>              <td>   -0.1763</td> <td>    0.032</td> <td>   -5.508</td> <td> 0.000</td> <td>   -0.239</td> <td>   -0.114</td>\n",
       "</tr>\n",
       "<tr>\n",
       "  <th>bmi</th>                  <td>    0.0448</td> <td>    0.006</td> <td>    7.428</td> <td> 0.000</td> <td>    0.033</td> <td>    0.057</td>\n",
       "</tr>\n",
       "<tr>\n",
       "  <th>under_five_deaths</th>    <td>   -0.0704</td> <td>    0.006</td> <td>  -11.103</td> <td> 0.000</td> <td>   -0.083</td> <td>   -0.058</td>\n",
       "</tr>\n",
       "<tr>\n",
       "  <th>tot_expend</th>           <td>    0.0844</td> <td>    0.041</td> <td>    2.045</td> <td> 0.041</td> <td>    0.003</td> <td>    0.165</td>\n",
       "</tr>\n",
       "<tr>\n",
       "  <th>hiv_aids</th>             <td>   -0.6159</td> <td>    0.017</td> <td>  -37.032</td> <td> 0.000</td> <td>   -0.649</td> <td>   -0.583</td>\n",
       "</tr>\n",
       "<tr>\n",
       "  <th>thinness__1_19_years</th> <td>   -0.0765</td> <td>    0.027</td> <td>   -2.830</td> <td> 0.005</td> <td>   -0.129</td> <td>   -0.023</td>\n",
       "</tr>\n",
       "<tr>\n",
       "  <th>income_comp</th>          <td>   11.7324</td> <td>    0.792</td> <td>   14.805</td> <td> 0.000</td> <td>   10.178</td> <td>   13.286</td>\n",
       "</tr>\n",
       "<tr>\n",
       "  <th>schooling</th>            <td>    1.1491</td> <td>    0.054</td> <td>   21.397</td> <td> 0.000</td> <td>    1.044</td> <td>    1.254</td>\n",
       "</tr>\n",
       "</table>\n",
       "<table class=\"simpletable\">\n",
       "<tr>\n",
       "  <th>Omnibus:</th>       <td>108.839</td> <th>  Durbin-Watson:     </th> <td>   0.442</td>\n",
       "</tr>\n",
       "<tr>\n",
       "  <th>Prob(Omnibus):</th> <td> 0.000</td>  <th>  Jarque-Bera (JB):  </th> <td> 347.633</td>\n",
       "</tr>\n",
       "<tr>\n",
       "  <th>Skew:</th>          <td>-0.139</td>  <th>  Prob(JB):          </th> <td>3.25e-76</td>\n",
       "</tr>\n",
       "<tr>\n",
       "  <th>Kurtosis:</th>      <td> 4.908</td>  <th>  Cond. No.          </th> <td>2.10e+03</td>\n",
       "</tr>\n",
       "</table><br/><br/>Warnings:<br/>[1] Standard Errors assume that the covariance matrix of the errors is correctly specified.<br/>[2] The condition number is large, 2.1e+03. This might indicate that there are<br/>strong multicollinearity or other numerical problems."
      ],
      "text/plain": [
       "<class 'statsmodels.iolib.summary.Summary'>\n",
       "\"\"\"\n",
       "                            OLS Regression Results                            \n",
       "==============================================================================\n",
       "Dep. Variable:                  lifex   R-squared:                       0.819\n",
       "Model:                            OLS   Adj. R-squared:                  0.818\n",
       "Method:                 Least Squares   F-statistic:                     1009.\n",
       "Date:                Wed, 26 Feb 2020   Prob (F-statistic):               0.00\n",
       "Time:                        14:13:44   Log-Likelihood:                -6390.5\n",
       "No. Observations:                2244   AIC:                         1.280e+04\n",
       "Df Residuals:                    2233   BIC:                         1.287e+04\n",
       "Df Model:                          10                                         \n",
       "Covariance Type:            nonrobust                                         \n",
       "========================================================================================\n",
       "                           coef    std err          t      P>|t|      [0.025      0.975]\n",
       "----------------------------------------------------------------------------------------\n",
       "Intercept               47.6680      0.536     88.994      0.000      46.618      48.718\n",
       "status                   2.3037      0.305      7.552      0.000       1.706       2.902\n",
       "infant_deaths            0.0948      0.009     11.011      0.000       0.078       0.112\n",
       "alcohol                 -0.1763      0.032     -5.508      0.000      -0.239      -0.114\n",
       "bmi                      0.0448      0.006      7.428      0.000       0.033       0.057\n",
       "under_five_deaths       -0.0704      0.006    -11.103      0.000      -0.083      -0.058\n",
       "tot_expend               0.0844      0.041      2.045      0.041       0.003       0.165\n",
       "hiv_aids                -0.6159      0.017    -37.032      0.000      -0.649      -0.583\n",
       "thinness__1_19_years    -0.0765      0.027     -2.830      0.005      -0.129      -0.023\n",
       "income_comp             11.7324      0.792     14.805      0.000      10.178      13.286\n",
       "schooling                1.1491      0.054     21.397      0.000       1.044       1.254\n",
       "==============================================================================\n",
       "Omnibus:                      108.839   Durbin-Watson:                   0.442\n",
       "Prob(Omnibus):                  0.000   Jarque-Bera (JB):              347.633\n",
       "Skew:                          -0.139   Prob(JB):                     3.25e-76\n",
       "Kurtosis:                       4.908   Cond. No.                     2.10e+03\n",
       "==============================================================================\n",
       "\n",
       "Warnings:\n",
       "[1] Standard Errors assume that the covariance matrix of the errors is correctly specified.\n",
       "[2] The condition number is large, 2.1e+03. This might indicate that there are\n",
       "strong multicollinearity or other numerical problems.\n",
       "\"\"\""
      ]
     },
     "execution_count": 99,
     "metadata": {},
     "output_type": "execute_result"
    }
   ],
   "source": [
    "model.summary()"
   ]
  },
  {
   "cell_type": "markdown",
   "metadata": {},
   "source": [
    "#### Train test on model with 10"
   ]
  },
  {
   "cell_type": "code",
   "execution_count": 100,
   "metadata": {},
   "outputs": [],
   "source": [
    "features_10 = df2[best_predictors10]"
   ]
  },
  {
   "cell_type": "code",
   "execution_count": 101,
   "metadata": {},
   "outputs": [],
   "source": [
    "X_train, X_test, y_train, y_test = train_test_split(features_10, target, random_state=0, test_size=0.2)"
   ]
  },
  {
   "cell_type": "code",
   "execution_count": 102,
   "metadata": {},
   "outputs": [
    {
     "data": {
      "text/plain": [
       "LinearRegression(copy_X=True, fit_intercept=True, n_jobs=None, normalize=False)"
      ]
     },
     "execution_count": 102,
     "metadata": {},
     "output_type": "execute_result"
    }
   ],
   "source": [
    "model = LinearRegression()\n",
    "model.fit(X_train, y_train)"
   ]
  },
  {
   "cell_type": "code",
   "execution_count": 103,
   "metadata": {},
   "outputs": [],
   "source": [
    "def run_model(model, X_train, X_test, y_train, y_test):\n",
    "    price_std = target.std()\n",
    "    print('Training R^2 :', model.score(X_train, y_train))\n",
    "    y_pred_train = model.predict(X_train)\n",
    "    train_rmse = np.sqrt(metrics.mean_squared_error(y_train, y_pred_train))\n",
    "    print('Training Root Mean Square Error', train_rmse)\n",
    "    print('Training Root Mean Square Error Standardized', train_rmse/price_std)\n",
    "    print('\\n----------------\\n')\n",
    "    print('Testing R^2 :', model.score(X_test, y_test))\n",
    "    y_pred_test = model.predict(X_test)\n",
    "    test_rmse = np.sqrt(metrics.mean_squared_error(y_test, y_pred_test))\n",
    "    print('Testing Root Mean Square Error', test_rmse)\n",
    "    print('Training Root Mean Square Error Standardized', test_rmse/price_std)"
   ]
  },
  {
   "cell_type": "code",
   "execution_count": 104,
   "metadata": {
    "scrolled": true
   },
   "outputs": [
    {
     "name": "stdout",
     "output_type": "stream",
     "text": [
      "Training R^2 : 0.8206435845758409\n",
      "Training Root Mean Square Error 4.1815846976433\n",
      "Training Root Mean Square Error Standardized 0.42642255497226184\n",
      "\n",
      "----------------\n",
      "\n",
      "Testing R^2 : 0.8082047734568096\n",
      "Testing Root Mean Square Error 4.1608778460923785\n",
      "Training Root Mean Square Error Standardized 0.4243109467705311\n"
     ]
    }
   ],
   "source": [
    "run_model(model, X_train, X_test, y_train, y_test)"
   ]
  },
  {
   "cell_type": "code",
   "execution_count": 105,
   "metadata": {
    "scrolled": true
   },
   "outputs": [
    {
     "name": "stdout",
     "output_type": "stream",
     "text": [
      "Training R^2 : 0.8206435845758409\n",
      "Training Root Mean Square Error 4.1815846976433\n",
      "Training Root Mean Square Error Standardized 0.42642255497226184\n",
      "\n",
      "----------------\n",
      "\n",
      "Testing R^2 : 0.8082047734568096\n",
      "Testing Root Mean Square Error 4.1608778460923785\n",
      "Training Root Mean Square Error Standardized 0.4243109467705311\n",
      "The optimal number of features is:  10\n"
     ]
    }
   ],
   "source": [
    "rfe = RFECV(LinearRegression(),cv=5)\n",
    "X_rfe_train = rfe.fit_transform(X_train, y_train)\n",
    "X_rfe_test = rfe.transform(X_test)\n",
    "lm = LinearRegression().fit(X_rfe_train, y_train)\n",
    "run_model(lm, X_rfe_train, X_rfe_test, y_train, y_test)\n",
    "print ('The optimal number of features is: ', rfe.n_features_)"
   ]
  },
  {
   "cell_type": "code",
   "execution_count": 106,
   "metadata": {},
   "outputs": [],
   "source": [
    "y_pred_test = model.predict(X_test)"
   ]
  },
  {
   "cell_type": "code",
   "execution_count": 107,
   "metadata": {
    "scrolled": true
   },
   "outputs": [
    {
     "data": {
      "text/plain": [
       "<matplotlib.axes._subplots.AxesSubplot at 0x1c219cde90>"
      ]
     },
     "execution_count": 107,
     "metadata": {},
     "output_type": "execute_result"
    },
    {
     "data": {
      "image/png": "[encoded data removed]",
      "text/plain": [
       "<Figure size 432x288 with 1 Axes>"
      ]
     },
     "metadata": {
      "needs_background": "light"
     },
     "output_type": "display_data"
    }
   ],
   "source": [
    "sns.residplot(y_pred_test, y_test, lowess=True, color=\"g\")"
   ]
  },
  {
   "cell_type": "code",
   "execution_count": 108,
   "metadata": {},
   "outputs": [],
   "source": [
    "residual = y_test - y_pred_test"
   ]
  },
  {
   "cell_type": "code",
   "execution_count": 109,
   "metadata": {},
   "outputs": [
    {
     "data": {
      "image/png": "[encoded data removed]",
      "text/plain": [
       "<Figure size 432x180 with 1 Axes>"
      ]
     },
     "metadata": {
      "needs_background": "light"
     },
     "output_type": "display_data"
    }
   ],
   "source": [
    "fig, ax = plt.subplots(figsize=(6,2.5))\n",
    "sp.stats.probplot(residual, plot=ax, fit=True)\n",
    "plt.show()"
   ]
  },
  {
   "cell_type": "markdown",
   "metadata": {},
   "source": [
    "### Model with all"
   ]
  },
  {
   "cell_type": "code",
   "execution_count": 110,
   "metadata": {},
   "outputs": [],
   "source": [
    "features = df2.drop(columns=['lifex'])"
   ]
  },
  {
   "cell_type": "code",
   "execution_count": 111,
   "metadata": {},
   "outputs": [],
   "source": [
    "target = df2.lifex"
   ]
  },
  {
   "cell_type": "code",
   "execution_count": 112,
   "metadata": {},
   "outputs": [],
   "source": [
    "linreg = LinearRegression()\n",
    "selector = RFE(linreg, n_features_to_select=30)\n",
    "selector = selector.fit(features, target)"
   ]
  },
  {
   "cell_type": "code",
   "execution_count": 113,
   "metadata": {},
   "outputs": [],
   "source": [
    "i = selector.ranking_\n",
    "zipped_rankings = list(zip(i, features))\n",
    "best_predictorsall = []\n",
    "for i in zipped_rankings:\n",
    "    if i[0] == 1:\n",
    "        best_predictorsall.append(i[1])"
   ]
  },
  {
   "cell_type": "code",
   "execution_count": 114,
   "metadata": {},
   "outputs": [
    {
     "data": {
      "text/plain": [
       "array([1, 1, 1, 1, 1, 1, 1, 1, 1, 1, 1, 1, 1, 1, 1, 1, 1])"
      ]
     },
     "execution_count": 114,
     "metadata": {},
     "output_type": "execute_result"
    }
   ],
   "source": [
    "selector.ranking_"
   ]
  },
  {
   "cell_type": "code",
   "execution_count": 115,
   "metadata": {},
   "outputs": [],
   "source": [
    "formula = '+'.join(best_predictorsall)"
   ]
  },
  {
   "cell_type": "code",
   "execution_count": 116,
   "metadata": {},
   "outputs": [
    {
     "data": {
      "text/plain": [
       "'status+adult_mortality+infant_deaths+alcohol+perc_expend+measles+bmi+under_five_deaths+polio+tot_expend+diphtheria+hiv_aids+gdp+pop+thinness__1_19_years+income_comp+schooling'"
      ]
     },
     "execution_count": 116,
     "metadata": {},
     "output_type": "execute_result"
    }
   ],
   "source": [
    "formula"
   ]
  },
  {
   "cell_type": "code",
   "execution_count": 117,
   "metadata": {},
   "outputs": [],
   "source": [
    "model = ols(formula = f'lifex~{formula}', data=df2).fit()"
   ]
  },
  {
   "cell_type": "code",
   "execution_count": 118,
   "metadata": {
    "scrolled": true
   },
   "outputs": [
    {
     "data": {
      "text/html": [
       "<table class=\"simpletable\">\n",
       "<caption>OLS Regression Results</caption>\n",
       "<tr>\n",
       "  <th>Dep. Variable:</th>          <td>lifex</td>      <th>  R-squared:         </th> <td>   0.851</td> \n",
       "</tr>\n",
       "<tr>\n",
       "  <th>Model:</th>                   <td>OLS</td>       <th>  Adj. R-squared:    </th> <td>   0.850</td> \n",
       "</tr>\n",
       "<tr>\n",
       "  <th>Method:</th>             <td>Least Squares</td>  <th>  F-statistic:       </th> <td>   749.2</td> \n",
       "</tr>\n",
       "<tr>\n",
       "  <th>Date:</th>             <td>Wed, 26 Feb 2020</td> <th>  Prob (F-statistic):</th>  <td>  0.00</td>  \n",
       "</tr>\n",
       "<tr>\n",
       "  <th>Time:</th>                 <td>14:13:45</td>     <th>  Log-Likelihood:    </th> <td> -6168.9</td> \n",
       "</tr>\n",
       "<tr>\n",
       "  <th>No. Observations:</th>      <td>  2244</td>      <th>  AIC:               </th> <td>1.237e+04</td>\n",
       "</tr>\n",
       "<tr>\n",
       "  <th>Df Residuals:</th>          <td>  2226</td>      <th>  BIC:               </th> <td>1.248e+04</td>\n",
       "</tr>\n",
       "<tr>\n",
       "  <th>Df Model:</th>              <td>    17</td>      <th>                     </th>     <td> </td>    \n",
       "</tr>\n",
       "<tr>\n",
       "  <th>Covariance Type:</th>      <td>nonrobust</td>    <th>                     </th>     <td> </td>    \n",
       "</tr>\n",
       "</table>\n",
       "<table class=\"simpletable\">\n",
       "<tr>\n",
       "            <td></td>              <th>coef</th>     <th>std err</th>      <th>t</th>      <th>P>|t|</th>  <th>[0.025</th>    <th>0.975]</th>  \n",
       "</tr>\n",
       "<tr>\n",
       "  <th>Intercept</th>            <td>   50.8965</td> <td>    0.581</td> <td>   87.656</td> <td> 0.000</td> <td>   49.758</td> <td>   52.035</td>\n",
       "</tr>\n",
       "<tr>\n",
       "  <th>status</th>               <td>    1.2292</td> <td>    0.290</td> <td>    4.235</td> <td> 0.000</td> <td>    0.660</td> <td>    1.798</td>\n",
       "</tr>\n",
       "<tr>\n",
       "  <th>adult_mortality</th>      <td>   -0.0154</td> <td>    0.001</td> <td>  -18.737</td> <td> 0.000</td> <td>   -0.017</td> <td>   -0.014</td>\n",
       "</tr>\n",
       "<tr>\n",
       "  <th>infant_deaths</th>        <td>    0.0787</td> <td>    0.008</td> <td>    9.744</td> <td> 0.000</td> <td>    0.063</td> <td>    0.095</td>\n",
       "</tr>\n",
       "<tr>\n",
       "  <th>alcohol</th>              <td>   -0.1488</td> <td>    0.029</td> <td>   -5.077</td> <td> 0.000</td> <td>   -0.206</td> <td>   -0.091</td>\n",
       "</tr>\n",
       "<tr>\n",
       "  <th>perc_expend</th>          <td>    0.0002</td> <td>    0.000</td> <td>    1.841</td> <td> 0.066</td> <td>-1.29e-05</td> <td>    0.000</td>\n",
       "</tr>\n",
       "<tr>\n",
       "  <th>measles</th>              <td>-3.524e-06</td> <td> 8.21e-06</td> <td>   -0.429</td> <td> 0.668</td> <td>-1.96e-05</td> <td> 1.26e-05</td>\n",
       "</tr>\n",
       "<tr>\n",
       "  <th>bmi</th>                  <td>    0.0381</td> <td>    0.006</td> <td>    6.918</td> <td> 0.000</td> <td>    0.027</td> <td>    0.049</td>\n",
       "</tr>\n",
       "<tr>\n",
       "  <th>under_five_deaths</th>    <td>   -0.0582</td> <td>    0.006</td> <td>   -9.816</td> <td> 0.000</td> <td>   -0.070</td> <td>   -0.047</td>\n",
       "</tr>\n",
       "<tr>\n",
       "  <th>polio</th>                <td>    0.0175</td> <td>    0.005</td> <td>    3.771</td> <td> 0.000</td> <td>    0.008</td> <td>    0.027</td>\n",
       "</tr>\n",
       "<tr>\n",
       "  <th>tot_expend</th>           <td>    0.0190</td> <td>    0.038</td> <td>    0.502</td> <td> 0.616</td> <td>   -0.055</td> <td>    0.093</td>\n",
       "</tr>\n",
       "<tr>\n",
       "  <th>diphtheria</th>           <td>    0.0209</td> <td>    0.005</td> <td>    4.419</td> <td> 0.000</td> <td>    0.012</td> <td>    0.030</td>\n",
       "</tr>\n",
       "<tr>\n",
       "  <th>hiv_aids</th>             <td>   -0.4624</td> <td>    0.017</td> <td>  -27.216</td> <td> 0.000</td> <td>   -0.496</td> <td>   -0.429</td>\n",
       "</tr>\n",
       "<tr>\n",
       "  <th>gdp</th>                  <td> 1.651e-05</td> <td>  1.8e-05</td> <td>    0.918</td> <td> 0.359</td> <td>-1.88e-05</td> <td> 5.18e-05</td>\n",
       "</tr>\n",
       "<tr>\n",
       "  <th>pop</th>                  <td>-1.378e-09</td> <td> 1.59e-09</td> <td>   -0.866</td> <td> 0.387</td> <td> -4.5e-09</td> <td> 1.74e-09</td>\n",
       "</tr>\n",
       "<tr>\n",
       "  <th>thinness__1_19_years</th> <td>   -0.0620</td> <td>    0.025</td> <td>   -2.519</td> <td> 0.012</td> <td>   -0.110</td> <td>   -0.014</td>\n",
       "</tr>\n",
       "<tr>\n",
       "  <th>income_comp</th>          <td>    9.3995</td> <td>    0.732</td> <td>   12.847</td> <td> 0.000</td> <td>    7.965</td> <td>   10.834</td>\n",
       "</tr>\n",
       "<tr>\n",
       "  <th>schooling</th>            <td>    0.9620</td> <td>    0.050</td> <td>   19.223</td> <td> 0.000</td> <td>    0.864</td> <td>    1.060</td>\n",
       "</tr>\n",
       "</table>\n",
       "<table class=\"simpletable\">\n",
       "<tr>\n",
       "  <th>Omnibus:</th>       <td>101.911</td> <th>  Durbin-Watson:     </th> <td>   0.662</td>\n",
       "</tr>\n",
       "<tr>\n",
       "  <th>Prob(Omnibus):</th> <td> 0.000</td>  <th>  Jarque-Bera (JB):  </th> <td> 276.197</td>\n",
       "</tr>\n",
       "<tr>\n",
       "  <th>Skew:</th>          <td>-0.200</td>  <th>  Prob(JB):          </th> <td>1.06e-60</td>\n",
       "</tr>\n",
       "<tr>\n",
       "  <th>Kurtosis:</th>      <td> 4.672</td>  <th>  Cond. No.          </th> <td>5.85e+08</td>\n",
       "</tr>\n",
       "</table><br/><br/>Warnings:<br/>[1] Standard Errors assume that the covariance matrix of the errors is correctly specified.<br/>[2] The condition number is large, 5.85e+08. This might indicate that there are<br/>strong multicollinearity or other numerical problems."
      ],
      "text/plain": [
       "<class 'statsmodels.iolib.summary.Summary'>\n",
       "\"\"\"\n",
       "                            OLS Regression Results                            \n",
       "==============================================================================\n",
       "Dep. Variable:                  lifex   R-squared:                       0.851\n",
       "Model:                            OLS   Adj. R-squared:                  0.850\n",
       "Method:                 Least Squares   F-statistic:                     749.2\n",
       "Date:                Wed, 26 Feb 2020   Prob (F-statistic):               0.00\n",
       "Time:                        14:13:45   Log-Likelihood:                -6168.9\n",
       "No. Observations:                2244   AIC:                         1.237e+04\n",
       "Df Residuals:                    2226   BIC:                         1.248e+04\n",
       "Df Model:                          17                                         \n",
       "Covariance Type:            nonrobust                                         \n",
       "========================================================================================\n",
       "                           coef    std err          t      P>|t|      [0.025      0.975]\n",
       "----------------------------------------------------------------------------------------\n",
       "Intercept               50.8965      0.581     87.656      0.000      49.758      52.035\n",
       "status                   1.2292      0.290      4.235      0.000       0.660       1.798\n",
       "adult_mortality         -0.0154      0.001    -18.737      0.000      -0.017      -0.014\n",
       "infant_deaths            0.0787      0.008      9.744      0.000       0.063       0.095\n",
       "alcohol                 -0.1488      0.029     -5.077      0.000      -0.206      -0.091\n",
       "perc_expend              0.0002      0.000      1.841      0.066   -1.29e-05       0.000\n",
       "measles              -3.524e-06   8.21e-06     -0.429      0.668   -1.96e-05    1.26e-05\n",
       "bmi                      0.0381      0.006      6.918      0.000       0.027       0.049\n",
       "under_five_deaths       -0.0582      0.006     -9.816      0.000      -0.070      -0.047\n",
       "polio                    0.0175      0.005      3.771      0.000       0.008       0.027\n",
       "tot_expend               0.0190      0.038      0.502      0.616      -0.055       0.093\n",
       "diphtheria               0.0209      0.005      4.419      0.000       0.012       0.030\n",
       "hiv_aids                -0.4624      0.017    -27.216      0.000      -0.496      -0.429\n",
       "gdp                   1.651e-05    1.8e-05      0.918      0.359   -1.88e-05    5.18e-05\n",
       "pop                  -1.378e-09   1.59e-09     -0.866      0.387    -4.5e-09    1.74e-09\n",
       "thinness__1_19_years    -0.0620      0.025     -2.519      0.012      -0.110      -0.014\n",
       "income_comp              9.3995      0.732     12.847      0.000       7.965      10.834\n",
       "schooling                0.9620      0.050     19.223      0.000       0.864       1.060\n",
       "==============================================================================\n",
       "Omnibus:                      101.911   Durbin-Watson:                   0.662\n",
       "Prob(Omnibus):                  0.000   Jarque-Bera (JB):              276.197\n",
       "Skew:                          -0.200   Prob(JB):                     1.06e-60\n",
       "Kurtosis:                       4.672   Cond. No.                     5.85e+08\n",
       "==============================================================================\n",
       "\n",
       "Warnings:\n",
       "[1] Standard Errors assume that the covariance matrix of the errors is correctly specified.\n",
       "[2] The condition number is large, 5.85e+08. This might indicate that there are\n",
       "strong multicollinearity or other numerical problems.\n",
       "\"\"\""
      ]
     },
     "execution_count": 118,
     "metadata": {},
     "output_type": "execute_result"
    }
   ],
   "source": [
    "model.summary()"
   ]
  },
  {
   "cell_type": "markdown",
   "metadata": {},
   "source": [
    "#### Train test on model all BEST MODEL (TUNING AT BOTTOM OF NOTEBOOK)"
   ]
  },
  {
   "cell_type": "code",
   "execution_count": 119,
   "metadata": {},
   "outputs": [],
   "source": [
    "features_all = df2[best_predictorsall]"
   ]
  },
  {
   "cell_type": "code",
   "execution_count": 120,
   "metadata": {},
   "outputs": [],
   "source": [
    "X_train, X_test, y_train, y_test = train_test_split(features_all, target, random_state=0, test_size=0.2)"
   ]
  },
  {
   "cell_type": "code",
   "execution_count": 121,
   "metadata": {},
   "outputs": [
    {
     "data": {
      "text/plain": [
       "LinearRegression(copy_X=True, fit_intercept=True, n_jobs=None, normalize=False)"
      ]
     },
     "execution_count": 121,
     "metadata": {},
     "output_type": "execute_result"
    }
   ],
   "source": [
    "model = LinearRegression()\n",
    "model.fit(X_train, y_train)"
   ]
  },
  {
   "cell_type": "code",
   "execution_count": 122,
   "metadata": {},
   "outputs": [],
   "source": [
    "def run_model(model, X_train, X_test, y_train, y_test):\n",
    "    price_std = target.std()\n",
    "    print('Training R^2 :', model.score(X_train, y_train))\n",
    "    y_pred_train = model.predict(X_train)\n",
    "    train_rmse = np.sqrt(metrics.mean_squared_error(y_train, y_pred_train))\n",
    "    print('Training Root Mean Square Error', train_rmse)\n",
    "    print('Training Root Mean Square Error Standardized', train_rmse/price_std)\n",
    "    print('\\n----------------\\n')\n",
    "    print('Testing R^2 :', model.score(X_test, y_test))\n",
    "    y_pred_test = model.predict(X_test)\n",
    "    test_rmse = np.sqrt(metrics.mean_squared_error(y_test, y_pred_test))\n",
    "    print('Testing Root Mean Square Error', test_rmse)\n",
    "    print('Training Root Mean Square Error Standardized', test_rmse/price_std)"
   ]
  },
  {
   "cell_type": "markdown",
   "metadata": {},
   "source": [
    "**The following is a linear regression model with all features:**"
   ]
  },
  {
   "cell_type": "code",
   "execution_count": 123,
   "metadata": {
    "scrolled": true
   },
   "outputs": [
    {
     "name": "stdout",
     "output_type": "stream",
     "text": [
      "Training R^2 : 0.8529500238749982\n",
      "Training Root Mean Square Error 3.786299108144346\n",
      "Training Root Mean Square Error Standardized 0.3861127912807937\n",
      "\n",
      "----------------\n",
      "\n",
      "Testing R^2 : 0.8409864253421294\n",
      "Testing Root Mean Square Error 3.7886385100101414\n",
      "Training Root Mean Square Error Standardized 0.38635135483811717\n"
     ]
    }
   ],
   "source": [
    "run_model(model, X_train, X_test, y_train, y_test)"
   ]
  },
  {
   "cell_type": "code",
   "execution_count": 124,
   "metadata": {},
   "outputs": [
    {
     "data": {
      "image/png": "[encoded data removed]",
      "text/plain": [
       "<Figure size 432x180 with 1 Axes>"
      ]
     },
     "metadata": {
      "needs_background": "light"
     },
     "output_type": "display_data"
    }
   ],
   "source": [
    "residual = y_test - y_pred_test\n",
    "\n",
    "fig, ax = plt.subplots(figsize=(6,2.5))\n",
    "sp.stats.probplot(residual, plot=ax, fit=True)\n",
    "plt.show()"
   ]
  },
  {
   "cell_type": "markdown",
   "metadata": {},
   "source": [
    "**The following was obtained from a grid search performed farther below.**"
   ]
  },
  {
   "cell_type": "markdown",
   "metadata": {},
   "source": [
    "**Ridge with alpha = .01:**\n",
    "Training Root Mean Square Error Standardized 0.389204208197086\n",
    "\n",
    "Training Root Mean Square Error Standardized 0.3794540128691246\n",
    "\n",
    "**Ridge with alpha = .01 AND scaled:**\n",
    "\n",
    "Training Root Mean Square Error Standardized: 0.38994469001592563\n",
    "\n",
    "Training Root Mean Square Error Standardized: 0.37929177080146"
   ]
  },
  {
   "cell_type": "markdown",
   "metadata": {},
   "source": [
    "**Lasso with alpha = .01:**\n",
    "\n",
    "Training Root Mean Square Error Standardized 0.389204208197086\n",
    "\n",
    "Training Root Mean Square Error Standardized 0.3794540128691246\n",
    "\n",
    "\n",
    "**Lasso with alpha = .01 AND scaled**\n",
    "\n",
    "Training Root Mean Square Error Standardized 0.3985981757115653\n",
    "\n",
    "Training Root Mean Square Error Standardized 0.3857925012699103"
   ]
  },
  {
   "cell_type": "markdown",
   "metadata": {},
   "source": [
    "**And finally, using RFECV to pick out the features with cross validation. It outperforms any gridsearch results on ridge/lasso regularization.**"
   ]
  },
  {
   "cell_type": "code",
   "execution_count": 125,
   "metadata": {},
   "outputs": [],
   "source": [
    "X_train, X_test, y_train, y_test = train_test_split(features, target, random_state=0, test_size=0.2)"
   ]
  },
  {
   "cell_type": "code",
   "execution_count": 126,
   "metadata": {},
   "outputs": [],
   "source": [
    "def run_model(model, X_train, X_test, y_train, y_test):\n",
    "    price_std = target.std()\n",
    "    print('Training R^2 :', model.score(X_train, y_train))\n",
    "    y_pred_train = model.predict(X_train)\n",
    "    train_rmse = np.sqrt(metrics.mean_squared_error(y_train, y_pred_train))\n",
    "    print('Training Root Mean Square Error', train_rmse)\n",
    "    print('Training Root Mean Square Error Standardized', train_rmse/price_std)\n",
    "    print('\\n----------------\\n')\n",
    "    print('Testing R^2 :', model.score(X_test, y_test))\n",
    "    y_pred_test = model.predict(X_test)\n",
    "    test_rmse = np.sqrt(metrics.mean_squared_error(y_test, y_pred_test))\n",
    "    print('Testing Root Mean Square Error', test_rmse)\n",
    "    print('Training Root Mean Square Error Standardized', test_rmse/price_std)"
   ]
  },
  {
   "cell_type": "code",
   "execution_count": 127,
   "metadata": {
    "scrolled": false
   },
   "outputs": [
    {
     "name": "stdout",
     "output_type": "stream",
     "text": [
      "Training R^2 : 0.852879670086985\n",
      "Training Root Mean Square Error 3.7872047479752426\n",
      "Training Root Mean Square Error Standardized 0.3862051450840763\n",
      "\n",
      "----------------\n",
      "\n",
      "Testing R^2 : 0.8409711038195287\n",
      "Testing Root Mean Square Error 3.788821030000885\n",
      "Training Root Mean Square Error Standardized 0.3863699675522947\n",
      "The optimal number of features is:  14\n"
     ]
    }
   ],
   "source": [
    "rfe = RFECV(LinearRegression(),cv=50, verbose=False)\n",
    "X_rfe_train = rfe.fit_transform(X_train, y_train)\n",
    "X_rfe_test = rfe.transform(X_test)\n",
    "lm = LinearRegression().fit(X_rfe_train, y_train)\n",
    "run_model(lm, X_rfe_train, X_rfe_test, y_train, y_test)\n",
    "print ('The optimal number of features is: ', rfe.n_features_)"
   ]
  },
  {
   "cell_type": "code",
   "execution_count": 128,
   "metadata": {},
   "outputs": [
    {
     "name": "stdout",
     "output_type": "stream",
     "text": [
      "keep:  ['status', 'adult_mortality', 'infant_deaths', 'alcohol', 'perc_expend', 'bmi', 'under_five_deaths', 'polio', 'tot_expend', 'diphtheria', 'hiv_aids', 'thinness__1_19_years', 'income_comp', 'schooling'] 14 \n",
      "\n",
      "dump:  ['measles', 'gdp', 'pop'] 3 \n",
      "\n"
     ]
    }
   ],
   "source": [
    "i = rfe.ranking_\n",
    "zipped_rankings = list(zip(i, features))\n",
    "best_predictors_rfecv = []\n",
    "dump = []\n",
    "for i in zipped_rankings:\n",
    "    if i[0] == 1:\n",
    "        best_predictors_rfecv.append(i[1])\n",
    "    else:\n",
    "        dump.append(i[1])\n",
    "\n",
    "selector.ranking_\n",
    "\n",
    "print('keep: ', best_predictors_rfecv, len(best_predictors_rfecv), '\\n')\n",
    "print('dump: ', dump, len(dump),'\\n')\n"
   ]
  },
  {
   "cell_type": "code",
   "execution_count": 129,
   "metadata": {},
   "outputs": [],
   "source": [
    "y_pred_test = model.predict(X_test)"
   ]
  },
  {
   "cell_type": "code",
   "execution_count": 130,
   "metadata": {
    "scrolled": true
   },
   "outputs": [
    {
     "data": {
      "text/plain": [
       "<matplotlib.axes._subplots.AxesSubplot at 0x1c1f2f5e10>"
      ]
     },
     "execution_count": 130,
     "metadata": {},
     "output_type": "execute_result"
    },
    {
     "data": {
      "image/png": "[encoded data removed]",
      "text/plain": [
       "<Figure size 432x288 with 1 Axes>"
      ]
     },
     "metadata": {
      "needs_background": "light"
     },
     "output_type": "display_data"
    }
   ],
   "source": [
    "sns.residplot(y_pred_test, y_test, lowess=True, color=\"g\")"
   ]
  },
  {
   "cell_type": "markdown",
   "metadata": {},
   "source": [
    "## Gridsearch"
   ]
  },
  {
   "cell_type": "code",
   "execution_count": 131,
   "metadata": {},
   "outputs": [],
   "source": [
    "alpha_range = [0.01, 0.05, 0.1, 0.5, 1, 5, 10]"
   ]
  },
  {
   "cell_type": "code",
   "execution_count": 132,
   "metadata": {},
   "outputs": [],
   "source": [
    "param_grid = dict(alpha=alpha_range)"
   ]
  },
  {
   "cell_type": "code",
   "execution_count": 133,
   "metadata": {},
   "outputs": [],
   "source": [
    "ridge = Ridge()"
   ]
  },
  {
   "cell_type": "code",
   "execution_count": 134,
   "metadata": {
    "scrolled": true
   },
   "outputs": [],
   "source": [
    "\n",
    "# instantiate the grid\n",
    "gridr = GridSearchCV(ridge, param_grid, cv=10, scoring='neg_mean_squared_error', return_train_score=False)\n",
    "\n",
    "# fit the grid with data\n",
    "# gridr.fit(X_train, y_train)\n"
   ]
  },
  {
   "cell_type": "code",
   "execution_count": 135,
   "metadata": {},
   "outputs": [],
   "source": [
    "# print(gridr.best_score_)\n",
    "# print(gridr.best_params_)\n",
    "# print(gridr.best_estimator_)"
   ]
  },
  {
   "cell_type": "code",
   "execution_count": 136,
   "metadata": {},
   "outputs": [],
   "source": [
    "lasso = Lasso()"
   ]
  },
  {
   "cell_type": "code",
   "execution_count": 137,
   "metadata": {},
   "outputs": [],
   "source": [
    "gridlass = GridSearchCV(lasso, param_grid, cv=10, scoring='neg_mean_squared_error', return_train_score=False)"
   ]
  },
  {
   "cell_type": "code",
   "execution_count": 138,
   "metadata": {},
   "outputs": [],
   "source": [
    "# gridlass.fit(X_train, y_train)"
   ]
  },
  {
   "cell_type": "code",
   "execution_count": 139,
   "metadata": {},
   "outputs": [],
   "source": [
    "# print(gridlass.best_score_)\n",
    "# print(gridlass.best_params_)\n",
    "# print(gridlass.best_estimator_)"
   ]
  },
  {
   "cell_type": "markdown",
   "metadata": {},
   "source": [
    "## Model with only bmi"
   ]
  },
  {
   "cell_type": "code",
   "execution_count": 140,
   "metadata": {},
   "outputs": [],
   "source": [
    "model = ols(formula = f'lifex~bmi', data=df2).fit()"
   ]
  },
  {
   "cell_type": "code",
   "execution_count": 141,
   "metadata": {},
   "outputs": [
    {
     "data": {
      "text/html": [
       "<table class=\"simpletable\">\n",
       "<caption>OLS Regression Results</caption>\n",
       "<tr>\n",
       "  <th>Dep. Variable:</th>          <td>lifex</td>      <th>  R-squared:         </th> <td>   0.346</td> \n",
       "</tr>\n",
       "<tr>\n",
       "  <th>Model:</th>                   <td>OLS</td>       <th>  Adj. R-squared:    </th> <td>   0.346</td> \n",
       "</tr>\n",
       "<tr>\n",
       "  <th>Method:</th>             <td>Least Squares</td>  <th>  F-statistic:       </th> <td>   1187.</td> \n",
       "</tr>\n",
       "<tr>\n",
       "  <th>Date:</th>             <td>Wed, 26 Feb 2020</td> <th>  Prob (F-statistic):</th> <td>4.40e-209</td>\n",
       "</tr>\n",
       "<tr>\n",
       "  <th>Time:</th>                 <td>14:13:46</td>     <th>  Log-Likelihood:    </th> <td> -7830.1</td> \n",
       "</tr>\n",
       "<tr>\n",
       "  <th>No. Observations:</th>      <td>  2244</td>      <th>  AIC:               </th> <td>1.566e+04</td>\n",
       "</tr>\n",
       "<tr>\n",
       "  <th>Df Residuals:</th>          <td>  2242</td>      <th>  BIC:               </th> <td>1.568e+04</td>\n",
       "</tr>\n",
       "<tr>\n",
       "  <th>Df Model:</th>              <td>     1</td>      <th>                     </th>     <td> </td>    \n",
       "</tr>\n",
       "<tr>\n",
       "  <th>Covariance Type:</th>      <td>nonrobust</td>    <th>                     </th>     <td> </td>    \n",
       "</tr>\n",
       "</table>\n",
       "<table class=\"simpletable\">\n",
       "<tr>\n",
       "      <td></td>         <th>coef</th>     <th>std err</th>      <th>t</th>      <th>P>|t|</th>  <th>[0.025</th>    <th>0.975]</th>  \n",
       "</tr>\n",
       "<tr>\n",
       "  <th>Intercept</th> <td>   57.9682</td> <td>    0.357</td> <td>  162.301</td> <td> 0.000</td> <td>   57.268</td> <td>   58.669</td>\n",
       "</tr>\n",
       "<tr>\n",
       "  <th>bmi</th>       <td>    0.2903</td> <td>    0.008</td> <td>   34.448</td> <td> 0.000</td> <td>    0.274</td> <td>    0.307</td>\n",
       "</tr>\n",
       "</table>\n",
       "<table class=\"simpletable\">\n",
       "<tr>\n",
       "  <th>Omnibus:</th>       <td>26.021</td> <th>  Durbin-Watson:     </th> <td>   0.448</td>\n",
       "</tr>\n",
       "<tr>\n",
       "  <th>Prob(Omnibus):</th> <td> 0.000</td> <th>  Jarque-Bera (JB):  </th> <td>  43.769</td>\n",
       "</tr>\n",
       "<tr>\n",
       "  <th>Skew:</th>          <td> 0.004</td> <th>  Prob(JB):          </th> <td>3.13e-10</td>\n",
       "</tr>\n",
       "<tr>\n",
       "  <th>Kurtosis:</th>      <td> 3.684</td> <th>  Cond. No.          </th> <td>    90.4</td>\n",
       "</tr>\n",
       "</table><br/><br/>Warnings:<br/>[1] Standard Errors assume that the covariance matrix of the errors is correctly specified."
      ],
      "text/plain": [
       "<class 'statsmodels.iolib.summary.Summary'>\n",
       "\"\"\"\n",
       "                            OLS Regression Results                            \n",
       "==============================================================================\n",
       "Dep. Variable:                  lifex   R-squared:                       0.346\n",
       "Model:                            OLS   Adj. R-squared:                  0.346\n",
       "Method:                 Least Squares   F-statistic:                     1187.\n",
       "Date:                Wed, 26 Feb 2020   Prob (F-statistic):          4.40e-209\n",
       "Time:                        14:13:46   Log-Likelihood:                -7830.1\n",
       "No. Observations:                2244   AIC:                         1.566e+04\n",
       "Df Residuals:                    2242   BIC:                         1.568e+04\n",
       "Df Model:                           1                                         \n",
       "Covariance Type:            nonrobust                                         \n",
       "==============================================================================\n",
       "                 coef    std err          t      P>|t|      [0.025      0.975]\n",
       "------------------------------------------------------------------------------\n",
       "Intercept     57.9682      0.357    162.301      0.000      57.268      58.669\n",
       "bmi            0.2903      0.008     34.448      0.000       0.274       0.307\n",
       "==============================================================================\n",
       "Omnibus:                       26.021   Durbin-Watson:                   0.448\n",
       "Prob(Omnibus):                  0.000   Jarque-Bera (JB):               43.769\n",
       "Skew:                           0.004   Prob(JB):                     3.13e-10\n",
       "Kurtosis:                       3.684   Cond. No.                         90.4\n",
       "==============================================================================\n",
       "\n",
       "Warnings:\n",
       "[1] Standard Errors assume that the covariance matrix of the errors is correctly specified.\n",
       "\"\"\""
      ]
     },
     "execution_count": 141,
     "metadata": {},
     "output_type": "execute_result"
    }
   ],
   "source": [
    "model.summary()"
   ]
  },
  {
   "cell_type": "markdown",
   "metadata": {},
   "source": [
    "#### Train test on model with only bmi"
   ]
  },
  {
   "cell_type": "code",
   "execution_count": 142,
   "metadata": {},
   "outputs": [
    {
     "name": "stdout",
     "output_type": "stream",
     "text": [
      "Training R^2 : 0.34843751039323456\n",
      "Training Root Mean Square Error 7.970039559338175\n",
      "Training Root Mean Square Error Standardized 0.8127551820338361\n",
      "\n",
      "----------------\n",
      "\n",
      "Testing R^2 : 0.33253066793126107\n",
      "Testing Root Mean Square Error 7.762144567866166\n",
      "Training Root Mean Square Error Standardized 0.7915548190519759\n"
     ]
    }
   ],
   "source": [
    "features_bmi = pd.DataFrame(df2['bmi'])\n",
    "\n",
    "X_train, X_test, y_train, y_test = train_test_split(features_bmi, target, random_state=0, test_size=0.2)\n",
    "\n",
    "model = LinearRegression()\n",
    "model.fit(X_train, y_train)\n",
    "\n",
    "def run_model(model, X_train, X_test, y_train, y_test):\n",
    "    price_std = target.std()\n",
    "    print('Training R^2 :', model.score(X_train, y_train))\n",
    "    y_pred_train = model.predict(X_train)\n",
    "    train_rmse = np.sqrt(metrics.mean_squared_error(y_train, y_pred_train))\n",
    "    print('Training Root Mean Square Error', train_rmse)\n",
    "    print('Training Root Mean Square Error Standardized', train_rmse/price_std)\n",
    "    print('\\n----------------\\n')\n",
    "    print('Testing R^2 :', model.score(X_test, y_test))\n",
    "    y_pred_test = model.predict(X_test)\n",
    "    test_rmse = np.sqrt(metrics.mean_squared_error(y_test, y_pred_test))\n",
    "    print('Testing Root Mean Square Error', test_rmse)\n",
    "    print('Training Root Mean Square Error Standardized', test_rmse/price_std)\n",
    "\n",
    "run_model(model, X_train, X_test, y_train, y_test)"
   ]
  },
  {
   "cell_type": "markdown",
   "metadata": {},
   "source": [
    "# Final Tuning and Evaluation"
   ]
  },
  {
   "cell_type": "code",
   "execution_count": 143,
   "metadata": {},
   "outputs": [],
   "source": [
    "def reset_df2():    \n",
    "    df2 = df.copy()\n",
    "    df2.GDP = df.GDP.fillna(df.GDP.median())\n",
    "    df2.Schooling = df.Schooling.fillna(df.Schooling.median())\n",
    "    df2['Total expenditure'] = df['Total expenditure'].fillna(df['Total expenditure'].median())\n",
    "    df2['Income composition of resources'] = df['Income composition of resources'].fillna(df['Income composition of resources'].median())\n",
    "    df2.Alcohol = df.Alcohol.fillna(df.Alcohol.median())\n",
    "    df2['Status'] = np.where(df2['Status'] == 'Developing', 0,1)\n",
    "    df2 = df2.drop(columns=['Hepatitis B', 'Country', 'Year',' thinness  1-19 years'])\n",
    "    df2 = df2.dropna(subset =['Life expectancy '])\n",
    "    df2 = df2.dropna()\n",
    "    df2.head()\n",
    "    df2.isna().sum()\n",
    "    renamed = []\n",
    "    for i in df2.columns:\n",
    "        renamed.append(i.lower().strip().replace(' ', '_').replace('-','_').replace('/','_'))\n",
    "    rename_dict = dict(zip(df2.columns, renamed))\n",
    "    df2.rename(columns=rename_dict, inplace=True)\n",
    "    shorten = {'life_expectancy':'lifex', \\\n",
    "               'percentage_expenditure':'perc_expend', \\\n",
    "               'total_expenditure':'tot_expend', \\\n",
    "              'population':'pop','income_composition_of_resources':'income_comp'}\n",
    "    df2.rename(columns=shorten, inplace=True)\n",
    "    return df2\n",
    "\n",
    "df2 = reset_df2()"
   ]
  },
  {
   "cell_type": "code",
   "execution_count": 144,
   "metadata": {},
   "outputs": [],
   "source": [
    "def run_model(model, X_train, X_test, y_train, y_test):\n",
    "    price_std = target.std()\n",
    "    print('Training R^2 :', model.score(X_train, y_train))\n",
    "    y_pred_train = model.predict(X_train)\n",
    "    train_rmse = np.sqrt(metrics.mean_squared_error(y_train, y_pred_train))\n",
    "    print('Training Root Mean Square Error', train_rmse)\n",
    "    print('Training Root Mean Square Error Standardized', train_rmse/price_std)\n",
    "    print('\\n----------------\\n')\n",
    "    print('Testing R^2 :', model.score(X_test, y_test))\n",
    "    y_pred_test = model.predict(X_test)\n",
    "    test_rmse = np.sqrt(metrics.mean_squared_error(y_test, y_pred_test))\n",
    "    print('Testing Root Mean Square Error', test_rmse)\n",
    "    print('Training Root Mean Square Error Standardized', test_rmse/price_std)"
   ]
  },
  {
   "cell_type": "markdown",
   "metadata": {},
   "source": [
    "## BEST Normal, Logged Target with LinearRegression, Lasso, and Ridge"
   ]
  },
  {
   "cell_type": "code",
   "execution_count": 145,
   "metadata": {},
   "outputs": [],
   "source": [
    "df2 = reset_df2()\n",
    "X_train, X_test, y_train, y_test = train_test_split(features_all, target, random_state=0, test_size=0.2)\n",
    "features = df2.drop(columns=['lifex'])\n",
    "target = df2.lifex"
   ]
  },
  {
   "cell_type": "code",
   "execution_count": 146,
   "metadata": {},
   "outputs": [
    {
     "data": {
      "text/plain": [
       "((1795, 17), (449, 17), (1795,), (449,))"
      ]
     },
     "execution_count": 146,
     "metadata": {},
     "output_type": "execute_result"
    }
   ],
   "source": [
    "X_train.shape, X_test.shape, y_train.shape, y_test.shape"
   ]
  },
  {
   "cell_type": "code",
   "execution_count": 147,
   "metadata": {},
   "outputs": [],
   "source": [
    "def run_model(model, X_train, X_test, y_train, y_test):\n",
    "    price_std = target.std()\n",
    "    print('Training R^2 :', model.score(X_train, y_train))\n",
    "    y_pred_train = model.predict(X_train)\n",
    "    train_rmse = np.sqrt(metrics.mean_squared_error(y_train, y_pred_train))\n",
    "    print('Training Root Mean Square Error', train_rmse)\n",
    "    print('Training Root Mean Square Error Standardized', train_rmse/price_std)\n",
    "    print('\\n----------------\\n')\n",
    "    print('Testing R^2 :', model.score(X_test, y_test))\n",
    "    y_pred_test = model.predict(X_test)\n",
    "    test_rmse = np.sqrt(metrics.mean_squared_error(y_test, y_pred_test))\n",
    "    print('Testing Root Mean Square Error', test_rmse)\n",
    "    print('Training Root Mean Square Error Standardized', test_rmse/price_std)"
   ]
  },
  {
   "cell_type": "code",
   "execution_count": 148,
   "metadata": {},
   "outputs": [],
   "source": [
    "def df2_reg_rfe():  \n",
    "    df2 = reset_df2()\n",
    "    features = df2.drop(columns=['lifex'])\n",
    "    target = df2.lifex\n",
    "    \n",
    "    #train test split\n",
    "    X_train, X_test, y_train, y_test = train_test_split(features, target, random_state=0, test_size=0.2)\n",
    "    \n",
    "    #create models\n",
    "    model = LinearRegression()\n",
    "    model.fit(X_train, y_train)\n",
    "    \n",
    "    ridge = Ridge(alpha=0.01)\n",
    "    ridge.fit(X_train, y_train)\n",
    "\n",
    "    lasso = Lasso(alpha=0.01)\n",
    "    lasso.fit(X_train, y_train)\n",
    "    \n",
    "    print('NOT LOGGED')\n",
    "    print('Linear Regression:')\n",
    "    run_model(model, X_train, X_test, y_train, y_test)\n",
    "    sns.residplot(y_pred_test, y_test, lowess=True, color=\"g\")\n",
    "    residual = y_test - y_pred_test\n",
    "    fig, ax = plt.subplots(figsize=(6,2.5))\n",
    "    sns.distplot(residual)\n",
    "    plt.show()\n",
    "    print('-------------------------------')\n",
    "    print('Ridge, alpha=.01')\n",
    "    run_model(ridge, X_train, X_test, y_train, y_test)\n",
    "    sns.residplot(y_pred_test, y_test, lowess=True, color=\"g\")\n",
    "    residual = y_test - y_pred_test\n",
    "    fig, ax = plt.subplots(figsize=(6,2.5))\n",
    "    sp.stats.probplot(residual, plot=ax, fit=True)\n",
    "    plt.show()\n",
    "    print('-------------------------------')\n",
    "    print('Lasso, alpha=.01')\n",
    "    run_model(lasso, X_train, X_test, y_train, y_test)\n",
    "    sns.residplot(y_pred_test, y_test, lowess=True, color=\"g\")\n",
    "    residual = y_test - y_pred_test\n",
    "    fig, ax = plt.subplots(figsize=(6,2.5))\n",
    "    sp.stats.probplot(residual, plot=ax, fit=True)\n",
    "    plt.show()"
   ]
  },
  {
   "cell_type": "markdown",
   "metadata": {},
   "source": [
    "### IMMEDIATELY BELOW IS BEST MODEL"
   ]
  },
  {
   "cell_type": "code",
   "execution_count": 149,
   "metadata": {
    "scrolled": false
   },
   "outputs": [
    {
     "name": "stdout",
     "output_type": "stream",
     "text": [
      "NOT LOGGED\n",
      "Linear Regression:\n",
      "Training R^2 : 0.8530222757113817\n",
      "Training Root Mean Square Error 3.785368809878141\n",
      "Training Root Mean Square Error Standardized 0.38601792290140036\n",
      "\n",
      "----------------\n",
      "\n",
      "Testing R^2 : 0.8402198704744105\n",
      "Testing Root Mean Square Error 3.797759453455685\n",
      "Training Root Mean Square Error Standardized 0.3872814749454531\n"
     ]
    },
    {
     "name": "stderr",
     "output_type": "stream",
     "text": [
      "/Users/braytonhall/opt/anaconda3/lib/python3.7/site-packages/sklearn/linear_model/ridge.py:147: LinAlgWarning: Ill-conditioned matrix (rcond=2.41465e-18): result may not be accurate.\n",
      "  overwrite_a=True).T\n",
      "/Users/braytonhall/opt/anaconda3/lib/python3.7/site-packages/sklearn/linear_model/coordinate_descent.py:475: ConvergenceWarning: Objective did not converge. You might want to increase the number of iterations. Duality gap: 13086.830979578344, tolerance: 17.499648798885797\n",
      "  positive)\n"
     ]
    },
    {
     "data": {
      "image/png": "[encoded data removed]",
      "text/plain": [
       "<Figure size 432x288 with 1 Axes>"
      ]
     },
     "metadata": {
      "needs_background": "light"
     },
     "output_type": "display_data"
    },
    {
     "data": {
      "image/png": "[encoded data removed]",
      "text/plain": [
       "<Figure size 432x180 with 1 Axes>"
      ]
     },
     "metadata": {
      "needs_background": "light"
     },
     "output_type": "display_data"
    },
    {
     "name": "stdout",
     "output_type": "stream",
     "text": [
      "-------------------------------\n",
      "Ridge, alpha=.01\n",
      "Training R^2 : 0.8530222730065352\n",
      "Training Root Mean Square Error 3.7853688447094105\n",
      "Training Root Mean Square Error Standardized 0.38601792645336447\n",
      "\n",
      "----------------\n",
      "\n",
      "Testing R^2 : 0.8402240393905377\n",
      "Testing Root Mean Square Error 3.7977099083590717\n",
      "Training Root Mean Square Error Standardized 0.3872764225195878\n"
     ]
    },
    {
     "data": {
      "image/png": "[encoded data removed]",
      "text/plain": [
       "<Figure size 432x288 with 1 Axes>"
      ]
     },
     "metadata": {
      "needs_background": "light"
     },
     "output_type": "display_data"
    },
    {
     "data": {
      "image/png": "[encoded data removed]",
      "text/plain": [
       "<Figure size 432x180 with 1 Axes>"
      ]
     },
     "metadata": {
      "needs_background": "light"
     },
     "output_type": "display_data"
    },
    {
     "name": "stdout",
     "output_type": "stream",
     "text": [
      "-------------------------------\n",
      "Lasso, alpha=.01\n",
      "Training R^2 : 0.8529315282205583\n",
      "Training Root Mean Square Error 3.7865372172547085\n",
      "Training Root Mean Square Error Standardized 0.3861370727679677\n",
      "\n",
      "----------------\n",
      "\n",
      "Testing R^2 : 0.8410616419080713\n",
      "Testing Root Mean Square Error 3.787742353547328\n",
      "Training Root Mean Square Error Standardized 0.3862599681136672\n"
     ]
    },
    {
     "data": {
      "image/png": "[encoded data removed]",
      "text/plain": [
       "<Figure size 432x288 with 1 Axes>"
      ]
     },
     "metadata": {
      "needs_background": "light"
     },
     "output_type": "display_data"
    },
    {
     "data": {
      "image/png": "[encoded data removed]",
      "text/plain": [
       "<Figure size 432x180 with 1 Axes>"
      ]
     },
     "metadata": {
      "needs_background": "light"
     },
     "output_type": "display_data"
    }
   ],
   "source": [
    "df2_reg_rfe()"
   ]
  },
  {
   "cell_type": "code",
   "execution_count": 150,
   "metadata": {},
   "outputs": [],
   "source": [
    "def df2_log_feats():  \n",
    "    df2 = reset_df2()\n",
    "    features = df2.drop(columns=['lifex'])\n",
    "    target = df2.lifex\n",
    "    \n",
    "    #train test df2\n",
    "    X_train, X_test, y_train, y_test = train_test_split(features, target, random_state=0, test_size=0.2)\n",
    "    \n",
    "    #log adult_mortality, gdp, pop, and thinness\n",
    "    feats_to_log = ['adult_mortality', 'gdp', 'pop', 'thinness_5_9_years']\n",
    "    for i in feats_to_log:\n",
    "        X_train[f'log_{i}'] = X_train[i].apply(lambda x: np.log(x))\n",
    "        X_train.drop(columns=[i], inplace=True)\n",
    "        X_test[f'log_{i}'] = X_test[i].apply(lambda x: np.log(x))\n",
    "        X_test.drop(columns=[i], inplace=True)\n",
    "    \n",
    "    \n",
    "    #run the rfe\n",
    "    model = LinearRegression()\n",
    "    model.fit(X_train, y_train)\n",
    "    \n",
    "    ridge = Ridge(alpha=0.01)\n",
    "    ridge.fit(X_train, y_train)\n",
    "\n",
    "    lasso = Lasso(alpha=0.01)\n",
    "    lasso.fit(X_train, y_train)\n",
    "    \n",
    "    print('LOGGED')\n",
    "    print('Linear Regression:')\n",
    "    run_model(model, X_train, X_test, y_train, y_test)\n",
    "    sns.residplot(y_pred_test, y_test, lowess=True, color=\"g\")\n",
    "    residual = y_test - y_pred_test\n",
    "    fig, ax = plt.subplots(figsize=(6,2.5))\n",
    "    sp.stats.probplot(residual, plot=ax, fit=True)\n",
    "    plt.show()\n",
    "    print('-------------------------------')\n",
    "    print('Ridge, alpha=.01')\n",
    "    run_model(ridge, X_train, X_test, y_train, y_test)\n",
    "    sns.residplot(y_pred_test, y_test, lowess=True, color=\"g\")\n",
    "    residual = y_test - y_pred_test\n",
    "    fig, ax = plt.subplots(figsize=(6,2.5))\n",
    "    sp.stats.probplot(residual, plot=ax, fit=True)\n",
    "    plt.show()\n",
    "    print('-------------------------------')\n",
    "    print('Lasso, alpha=.01')\n",
    "    run_model(lasso, X_train, X_test, y_train, y_test)\n",
    "    sns.residplot(y_pred_test, y_test, lowess=True, color=\"g\")\n",
    "    residual = y_test - y_pred_test\n",
    "    fig, ax = plt.subplots(figsize=(6,2.5))\n",
    "    sp.stats.probplot(residual, plot=ax, fit=True)\n",
    "    plt.show()"
   ]
  },
  {
   "cell_type": "code",
   "execution_count": 151,
   "metadata": {
    "scrolled": false
   },
   "outputs": [
    {
     "name": "stderr",
     "output_type": "stream",
     "text": [
      "/Users/braytonhall/opt/anaconda3/lib/python3.7/site-packages/ipykernel_launcher.py:12: SettingWithCopyWarning: \n",
      "A value is trying to be set on a copy of a slice from a DataFrame.\n",
      "Try using .loc[row_indexer,col_indexer] = value instead\n",
      "\n",
      "See the caveats in the documentation: http://pandas.pydata.org/pandas-docs/stable/user_guide/indexing.html#returning-a-view-versus-a-copy\n",
      "  if sys.path[0] == '':\n",
      "/Users/braytonhall/opt/anaconda3/lib/python3.7/site-packages/pandas/core/frame.py:4102: SettingWithCopyWarning: \n",
      "A value is trying to be set on a copy of a slice from a DataFrame\n",
      "\n",
      "See the caveats in the documentation: http://pandas.pydata.org/pandas-docs/stable/user_guide/indexing.html#returning-a-view-versus-a-copy\n",
      "  errors=errors,\n",
      "/Users/braytonhall/opt/anaconda3/lib/python3.7/site-packages/ipykernel_launcher.py:14: SettingWithCopyWarning: \n",
      "A value is trying to be set on a copy of a slice from a DataFrame.\n",
      "Try using .loc[row_indexer,col_indexer] = value instead\n",
      "\n",
      "See the caveats in the documentation: http://pandas.pydata.org/pandas-docs/stable/user_guide/indexing.html#returning-a-view-versus-a-copy\n",
      "  \n",
      "/Users/braytonhall/opt/anaconda3/lib/python3.7/site-packages/sklearn/linear_model/coordinate_descent.py:475: ConvergenceWarning: Objective did not converge. You might want to increase the number of iterations. Duality gap: 14011.514151379863, tolerance: 17.499648798885797\n",
      "  positive)\n"
     ]
    },
    {
     "name": "stdout",
     "output_type": "stream",
     "text": [
      "LOGGED\n",
      "Linear Regression:\n",
      "Training R^2 : 0.8411514594975785\n",
      "Training Root Mean Square Error 3.935265647440054\n",
      "Training Root Mean Square Error Standardized 0.4013038484720189\n",
      "\n",
      "----------------\n",
      "\n",
      "Testing R^2 : 0.8309769194859156\n",
      "Testing Root Mean Square Error 3.906061486257701\n",
      "Training Root Mean Square Error Standardized 0.39832571603475914\n"
     ]
    },
    {
     "data": {
      "image/png": "[encoded data removed]",
      "text/plain": [
       "<Figure size 432x288 with 1 Axes>"
      ]
     },
     "metadata": {
      "needs_background": "light"
     },
     "output_type": "display_data"
    },
    {
     "data": {
      "image/png": "[encoded data removed]",
      "text/plain": [
       "<Figure size 432x180 with 1 Axes>"
      ]
     },
     "metadata": {
      "needs_background": "light"
     },
     "output_type": "display_data"
    },
    {
     "name": "stdout",
     "output_type": "stream",
     "text": [
      "-------------------------------\n",
      "Ridge, alpha=.01\n",
      "Training R^2 : 0.8411514563514026\n",
      "Training Root Mean Square Error 3.9352656864112583\n",
      "Training Root Mean Square Error Standardized 0.4013038524461583\n",
      "\n",
      "----------------\n",
      "\n",
      "Testing R^2 : 0.8309811270793099\n",
      "Testing Root Mean Square Error 3.906012867983968\n",
      "Training Root Mean Square Error Standardized 0.3983207581228662\n"
     ]
    },
    {
     "data": {
      "image/png": "[encoded data removed]",
      "text/plain": [
       "<Figure size 432x288 with 1 Axes>"
      ]
     },
     "metadata": {
      "needs_background": "light"
     },
     "output_type": "display_data"
    },
    {
     "data": {
      "image/png": "[encoded data removed]",
      "text/plain": [
       "<Figure size 432x180 with 1 Axes>"
      ]
     },
     "metadata": {
      "needs_background": "light"
     },
     "output_type": "display_data"
    },
    {
     "name": "stdout",
     "output_type": "stream",
     "text": [
      "-------------------------------\n",
      "Lasso, alpha=.01\n",
      "Training R^2 : 0.8410629443224378\n",
      "Training Root Mean Square Error 3.9363619188169823\n",
      "Training Root Mean Square Error Standardized 0.40141564217591214\n",
      "\n",
      "----------------\n",
      "\n",
      "Testing R^2 : 0.8318002511703073\n",
      "Testing Root Mean Square Error 3.8965364258286685\n",
      "Training Root Mean Square Error Standardized 0.3973543855708079\n"
     ]
    },
    {
     "data": {
      "image/png": "[encoded data removed]",
      "text/plain": [
       "<Figure size 432x288 with 1 Axes>"
      ]
     },
     "metadata": {
      "needs_background": "light"
     },
     "output_type": "display_data"
    },
    {
     "data": {
      "image/png": "[encoded data removed]",
      "text/plain": [
       "<Figure size 432x180 with 1 Axes>"
      ]
     },
     "metadata": {
      "needs_background": "light"
     },
     "output_type": "display_data"
    }
   ],
   "source": [
    "df2_log_feats()"
   ]
  },
  {
   "cell_type": "markdown",
   "metadata": {},
   "source": [
    "# Useful and R2/RMSE from Scratch "
   ]
  },
  {
   "cell_type": "code",
   "execution_count": 152,
   "metadata": {},
   "outputs": [],
   "source": [
    "df2 = reset_df2()\n",
    "#log adult_mortality, gdp, pop, and thinness\n",
    "features = df2.drop(columns=['lifex'])\n",
    "target = df2.lifex"
   ]
  },
  {
   "cell_type": "code",
   "execution_count": 153,
   "metadata": {},
   "outputs": [
    {
     "data": {
      "text/plain": [
       "LinearRegression(copy_X=True, fit_intercept=True, n_jobs=None, normalize=False)"
      ]
     },
     "execution_count": 153,
     "metadata": {},
     "output_type": "execute_result"
    }
   ],
   "source": [
    "X_train, X_test, y_train, y_test = train_test_split(features, target, random_state=0, test_size=0.2)\n",
    "\n",
    "#run the rfe\n",
    "model = LinearRegression()\n",
    "model.fit(X_train, y_train)"
   ]
  },
  {
   "cell_type": "code",
   "execution_count": 154,
   "metadata": {},
   "outputs": [],
   "source": [
    "lifex_std = target.std()"
   ]
  },
  {
   "cell_type": "code",
   "execution_count": 155,
   "metadata": {},
   "outputs": [],
   "source": [
    "y_pred = model.predict(X_train)"
   ]
  },
  {
   "cell_type": "code",
   "execution_count": 156,
   "metadata": {},
   "outputs": [
    {
     "data": {
      "text/plain": [
       "array([64.77090344, 80.20709998, 65.73504026, ..., 62.01165151,\n",
       "       61.34232592, 66.68388325])"
      ]
     },
     "execution_count": 156,
     "metadata": {},
     "output_type": "execute_result"
    }
   ],
   "source": [
    "y_pred"
   ]
  },
  {
   "cell_type": "code",
   "execution_count": 157,
   "metadata": {
    "scrolled": true
   },
   "outputs": [],
   "source": [
    "squared_res = []\n",
    "mean = y_train.mean()\n",
    "for i in y_pred:\n",
    "    squared_res.append((i - mean)**2)\n",
    "base_ssq = sum(squared_res)"
   ]
  },
  {
   "cell_type": "code",
   "execution_count": 158,
   "metadata": {},
   "outputs": [
    {
     "data": {
      "text/plain": [
       "149275.90242584376"
      ]
     },
     "execution_count": 158,
     "metadata": {},
     "output_type": "execute_result"
    }
   ],
   "source": [
    "base_ssq"
   ]
  },
  {
   "cell_type": "code",
   "execution_count": 159,
   "metadata": {},
   "outputs": [
    {
     "data": {
      "text/plain": [
       "array([64.77090344, 80.20709998, 65.73504026, ..., 62.01165151,\n",
       "       61.34232592, 66.68388325])"
      ]
     },
     "execution_count": 159,
     "metadata": {},
     "output_type": "execute_result"
    }
   ],
   "source": [
    "y_pred"
   ]
  },
  {
   "cell_type": "code",
   "execution_count": 160,
   "metadata": {},
   "outputs": [],
   "source": [
    "actual = y_train.values"
   ]
  },
  {
   "cell_type": "code",
   "execution_count": 161,
   "metadata": {},
   "outputs": [
    {
     "data": {
      "text/plain": [
       "array([72. , 78.5, 70. , ..., 71.8, 56.8, 66.8])"
      ]
     },
     "execution_count": 161,
     "metadata": {},
     "output_type": "execute_result"
    }
   ],
   "source": [
    "actual"
   ]
  },
  {
   "cell_type": "code",
   "execution_count": 162,
   "metadata": {},
   "outputs": [],
   "source": [
    "squared_res = []\n",
    "for i in range(len(actual)):\n",
    "    squared_res.append((y_pred[i] - actual[i])**2)\n",
    "ssq = sum(squared_res)"
   ]
  },
  {
   "cell_type": "code",
   "execution_count": 163,
   "metadata": {
    "scrolled": true
   },
   "outputs": [
    {
     "data": {
      "text/plain": [
       "25720.585563102864"
      ]
     },
     "execution_count": 163,
     "metadata": {},
     "output_type": "execute_result"
    }
   ],
   "source": [
    "ssq"
   ]
  },
  {
   "cell_type": "code",
   "execution_count": 164,
   "metadata": {},
   "outputs": [
    {
     "data": {
      "text/plain": [
       "0.8276976715925053"
      ]
     },
     "execution_count": 164,
     "metadata": {},
     "output_type": "execute_result"
    }
   ],
   "source": [
    "1- ssq/base_ssq"
   ]
  },
  {
   "cell_type": "code",
   "execution_count": 165,
   "metadata": {},
   "outputs": [
    {
     "name": "stdout",
     "output_type": "stream",
     "text": [
      "Training R^2 : 0.8530222757113817\n"
     ]
    }
   ],
   "source": [
    "print('Training R^2 :', model.score(X_train, y_train))"
   ]
  },
  {
   "cell_type": "code",
   "execution_count": 166,
   "metadata": {},
   "outputs": [
    {
     "data": {
      "text/plain": [
       "array([64.77090344, 80.20709998, 65.73504026, ..., 62.01165151,\n",
       "       61.34232592, 66.68388325])"
      ]
     },
     "execution_count": 166,
     "metadata": {},
     "output_type": "execute_result"
    }
   ],
   "source": [
    "y_pred_train = model.predict(X_train)\n",
    "y_pred_train"
   ]
  },
  {
   "cell_type": "code",
   "execution_count": 167,
   "metadata": {},
   "outputs": [
    {
     "data": {
      "text/plain": [
       "3.785368809878141"
      ]
     },
     "execution_count": 167,
     "metadata": {},
     "output_type": "execute_result"
    }
   ],
   "source": [
    "(ssq/len(actual))**.5"
   ]
  },
  {
   "cell_type": "code",
   "execution_count": 168,
   "metadata": {},
   "outputs": [
    {
     "name": "stdout",
     "output_type": "stream",
     "text": [
      "Training Root Mean Square Error 3.785368809878141\n"
     ]
    }
   ],
   "source": [
    "train_rmse = np.sqrt(metrics.mean_squared_error(y_train, y_pred_train))\n",
    "print('Training Root Mean Square Error', train_rmse)"
   ]
  },
  {
   "cell_type": "code",
   "execution_count": 169,
   "metadata": {},
   "outputs": [],
   "source": [
    "y_pred_test = model.predict(X_test)"
   ]
  },
  {
   "cell_type": "code",
   "execution_count": 170,
   "metadata": {},
   "outputs": [],
   "source": [
    "test_rmse = np.sqrt(metrics.mean_squared_error(y_test, y_pred_test))"
   ]
  },
  {
   "cell_type": "code",
   "execution_count": 171,
   "metadata": {},
   "outputs": [
    {
     "data": {
      "text/plain": [
       "3.797759453455685"
      ]
     },
     "execution_count": 171,
     "metadata": {},
     "output_type": "execute_result"
    }
   ],
   "source": [
    "test_rmse"
   ]
  },
  {
   "cell_type": "code",
   "execution_count": 172,
   "metadata": {},
   "outputs": [
    {
     "data": {
      "text/plain": [
       "0.38601792290140036"
      ]
     },
     "execution_count": 172,
     "metadata": {},
     "output_type": "execute_result"
    }
   ],
   "source": [
    "train_rmse/lifex_std"
   ]
  },
  {
   "cell_type": "code",
   "execution_count": 173,
   "metadata": {},
   "outputs": [
    {
     "data": {
      "text/plain": [
       "0.3872814749454531"
      ]
     },
     "execution_count": 173,
     "metadata": {},
     "output_type": "execute_result"
    }
   ],
   "source": [
    "test_rmse/lifex_std"
   ]
  }
 ],
 "metadata": {
  "kernelspec": {
   "display_name": "Python 3",
   "language": "python",
   "name": "python3"
  },
  "language_info": {
   "codemirror_mode": {
    "name": "ipython",
    "version": 3
   },
   "file_extension": ".py",
   "mimetype": "text/x-python",
   "name": "python",
   "nbconvert_exporter": "python",
   "pygments_lexer": "ipython3",
   "version": "3.7.4"
  },
  "toc": {
   "base_numbering": 1,
   "nav_menu": {},
   "number_sections": true,
   "sideBar": true,
   "skip_h1_title": false,
   "title_cell": "Table of Contents",
   "title_sidebar": "Contents",
   "toc_cell": false,
   "toc_position": {
    "height": "142px",
    "left": "782px",
    "top": "110px",
    "width": "369.323px"
   },
   "toc_section_display": true,
   "toc_window_display": true
  }
 },
 "nbformat": 4,
 "nbformat_minor": 2
}
